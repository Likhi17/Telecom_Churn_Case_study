{
  "cells": [
    {
      "cell_type": "markdown",
      "metadata": {
        "id": "6faF1tjOaAnb"
      },
      "source": [
        "# Deep Learning Course Project - Gesture Recognition\n",
        "### Problem Statement\n",
        "Imagine you are working as a data scientist at a home electronics company which manufactures state of the art smart televisions. You want to develop a cool feature in the smart-TV that can recognise five different gestures performed by the user which will help users control the TV without using a remote.\n",
        "\n",
        "The gestures are continuously monitored by the webcam mounted on the TV. Each gesture corresponds to a specific command:\n",
        "\n",
        "                Gesture\tCorresponding Action\n",
        "                Thumbs Up   -Increase the volume.\n",
        "                Thumbs Down -Decrease the volume.\n",
        "                Left Swipe\t-'Jump' backwards 10 seconds.\n",
        "                Right Swipe\t-'Jump' forward 10 seconds.\n",
        "                Stop\t    - Pause the movie.\n",
        "Each video is a sequence of 30 frames (or images).\n",
        "\n",
        "In this group project, you are going to build a 3D Conv model that will be able to predict the 5 gestures correctly. Please import the following libraries to get started.\n",
        "\n",
        "### Objectives:\n",
        "#### Generator:\n",
        "The generator should be able to take a batch of videos as input without any error. Steps like cropping, resizing and normalization should be performed successfully.\n",
        "\n",
        "#### Model:\n",
        "Develop a model that is able to train without any errors which will be judged on the total number of parameters (as the inference(prediction) time should be less) and the accuracy achieved. As suggested by Snehansu, start training on a small amount of data and then proceed further.\n",
        "\n",
        "#### Write up:\n",
        "This should contain the detailed procedure followed in choosing the final model. The write up should start with the reason for choosing the base model, then highlight the reasons and metrics taken into consideration to modify and experiment to arrive at the final model."
      ]
    },
    {
      "cell_type": "code",
      "execution_count": null,
      "metadata": {
        "id": "PCVYHDWtaAnd"
      },
      "outputs": [],
      "source": [
        "import numpy as np\n",
        "import os\n",
        "import cv2\n",
        "from skimage.transform import resize\n",
        "import datetime\n",
        "import matplotlib.pyplot as plt\n",
        "from PIL import Image\n",
        "from tensorflow.keras.layers import Dense, GRU, Flatten, TimeDistributed, Flatten, BatchNormalization, Activation, Dropout, LSTM, Bidirectional, Conv2D, MaxPooling2D\n",
        "from tensorflow.keras.models import Sequential\n",
        "from tensorflow.keras.layers import Dense, GRU, Dropout, Flatten, BatchNormalization, Activation, Conv3D, MaxPooling3D\n",
        "from tensorflow.keras.callbacks import ModelCheckpoint, ReduceLROnPlateau\n",
        "from tensorflow.keras import optimizers"
      ]
    },
    {
      "cell_type": "markdown",
      "metadata": {
        "id": "bGhBFN31aAne"
      },
      "source": [
        "We set the random seed so that the results don't vary drastically."
      ]
    },
    {
      "cell_type": "code",
      "execution_count": null,
      "metadata": {
        "id": "0jO3SSZJaAne"
      },
      "outputs": [],
      "source": [
        "np.random.seed(30)\n",
        "import random as rn\n",
        "rn.seed(30)\n",
        "from tensorflow import keras\n",
        "from keras import backend as K\n",
        "import tensorflow as tf\n",
        "tf.random.set_seed(30)"
      ]
    },
    {
      "cell_type": "code",
      "execution_count": null,
      "metadata": {
        "id": "D7-0yzlnLqgd"
      },
      "outputs": [],
      "source": [
        "#Below environment variable is set in order to run the code in both JARVIS and COLAB without changes\n",
        "#environment = \"JARVIS\"\n",
        "environment = \"COLAB\""
      ]
    },
    {
      "cell_type": "code",
      "execution_count": null,
      "metadata": {
        "colab": {
          "base_uri": "https://localhost:8080/"
        },
        "id": "92oNj5E4Lqge",
        "outputId": "abea058f-888e-463d-adcd-74bf5c287c75"
      },
      "outputs": [
        {
          "output_type": "stream",
          "name": "stdout",
          "text": [
            "Drive already mounted at /content/gdrive; to attempt to forcibly remount, call drive.mount(\"/content/gdrive\", force_remount=True).\n"
          ]
        }
      ],
      "source": [
        "#Mount Google Drive\n",
        "if environment == \"COLAB\":\n",
        "  from google.colab import drive\n",
        "  drive.mount('/content/gdrive')"
      ]
    },
    {
      "cell_type": "code",
      "execution_count": null,
      "metadata": {
        "id": "udEv7FzOLqge"
      },
      "outputs": [],
      "source": [
        "#!unzip \"/content/gdrive/MyDrive/Colab Notebooks/Project_data.zip\" > /dev/null\n",
        "if environment == \"COLAB\":\n",
        "  !unzip \"/content/gdrive/MyDrive/Colab Notebooks/Project_data.zip\" > /dev/null"
      ]
    },
    {
      "cell_type": "code",
      "execution_count": null,
      "metadata": {
        "colab": {
          "base_uri": "https://localhost:8080/"
        },
        "id": "_lH5ffOhLqge",
        "outputId": "161eafef-68f0-4d11-d352-65c0ad8dd043"
      },
      "outputs": [
        {
          "output_type": "stream",
          "name": "stdout",
          "text": [
            "# training sequences = 663\n",
            "# validation sequences = 100\n"
          ]
        }
      ],
      "source": [
        "#Define the path of CSV files provided for Train, Validation\n",
        "#In this block, we read the folder names for training and validation\n",
        "if environment == \"COLAB\":\n",
        "  train_doc = np.random.permutation(open('/content/Project_data/train.csv').readlines())\n",
        "  val_doc = np.random.permutation(open('/content/Project_data/val.csv').readlines())\n",
        "elif environment == \"JARVIS\":\n",
        "  train_doc = np.random.permutation(open('Colab Notebooks/Project_data/train.csv').readlines())\n",
        "  val_doc = np.random.permutation(open('Colab Notebooks/Project_data/val.csv').readlines())\n",
        "num_train_sequences = len(train_doc)\n",
        "print('# training sequences =', num_train_sequences)\n",
        "num_val_sequences = len(val_doc)\n",
        "print('# validation sequences =', num_val_sequences)"
      ]
    },
    {
      "cell_type": "code",
      "execution_count": null,
      "metadata": {
        "id": "eiYRu2NoLqge"
      },
      "outputs": [],
      "source": [
        "if environment == \"COLAB\":\n",
        "  Proj_data_dir=\"/content/Project_data\"\n",
        "elif environment == \"JARVIS\":\n",
        "  Proj_data_dir = \"Colab Notebooks/Project_data/\""
      ]
    },
    {
      "cell_type": "code",
      "execution_count": null,
      "metadata": {
        "id": "-nYXpOdGLqgf"
      },
      "outputs": [],
      "source": [
        "#Define the path\n",
        "train_path = Proj_data_dir + '/' + 'train'\n",
        "val_path =  Proj_data_dir + '/' + 'val'"
      ]
    },
    {
      "cell_type": "code",
      "execution_count": null,
      "metadata": {
        "id": "rNiNn_6Q2-Wx"
      },
      "outputs": [],
      "source": [
        "#API for cropping image\n",
        "def crop_center(image, crop_width, crop_height):\n",
        "    img_width, img_height = image.size\n",
        "    return image.crop(((img_width - crop_width) // 2,\n",
        "                         (img_height - crop_height) // 2,\n",
        "                         (img_width + crop_width) // 2,\n",
        "                         (img_height + crop_height) // 2))\n",
        "def crop_max_square(image):\n",
        "    return crop_center(image, min(image.size), min(image.size))"
      ]
    },
    {
      "cell_type": "code",
      "execution_count": null,
      "metadata": {
        "id": "dqfuQw1_pMf6"
      },
      "outputs": [],
      "source": [
        "#Implementation to handle last batch (if the number of images in last batch < batch size)\n",
        "def process_batch_data(source_path,t,batch,img_idx,remaining_seq=0,augment_data=False):\n",
        "    # we iterate over the number of batches\n",
        "    # for batch in range(num_batches)x is the number of images (len(img_idx)) used for each video\n",
        "    # (y,z) is the final size (height & width) of the input images and 3 is the number of channels RGB\n",
        "    seq_len = remaining_seq if remaining_seq else batch_size\n",
        "\n",
        "    batch_data = np.zeros((seq_len,len(img_idx),img_y,img_z,3))\n",
        "    batch_labels = np.zeros((seq_len,5))\n",
        "\n",
        "    for folder in range(seq_len): # iterate over the batch_size\n",
        "        # read all the images in the folder\n",
        "        imgs = os.listdir(source_path+'/'+ t[folder + (batch*batch_size)].split(';')[0])\n",
        "        for idx,item in enumerate(img_idx):\n",
        "            #  Iterate over the frames/images of a folder to read them in\n",
        "            image = Image.open(source_path+'/'+ t[folder + (batch*batch_size)].strip().split(';')[0]+'/'+imgs[item])\n",
        "\n",
        "            #Crop the images, if the hieght, width are different\n",
        "            if image.width > image.height:\n",
        "              image = crop_max_square(image)\n",
        "            elif image.height > image.width:\n",
        "              image = crop_max_square(image)\n",
        "\n",
        "            resized_image = image.resize((img_y,img_z))\n",
        "            resized_img_arr = np.array(resized_image).astype('float32')\n",
        "            # Normalize the images\n",
        "            batch_data[folder,idx,:,:,0] = (resized_img_arr[:,:,0])/255\n",
        "            batch_data[folder,idx,:,:,1] = (resized_img_arr[:,:,1])/255\n",
        "            batch_data[folder,idx,:,:,2] = (resized_img_arr[:,:,2])/255\n",
        "            #crop the images and resize them. Note that the images are of 2 different shape\n",
        "\n",
        "        #print(folder)\n",
        "        #print(t[folder + (batch*model_params.batch_size)])\n",
        "        batch_labels[folder, int(t[folder + (batch*batch_size)].strip().split(';')[2])] = 1\n",
        "\n",
        "    #print(\"batch_labels::\",batch_labels)\n",
        "    return(batch_data,batch_labels)"
      ]
    },
    {
      "cell_type": "markdown",
      "metadata": {
        "id": "EB7cANP9gMNC"
      },
      "source": [
        "## Generator\n",
        "This is one of the most important part of the code. The overall structure of the generator has been given. In the generator, you are going to preprocess the images as you have images of 2 different dimensions as well as create a batch of video frames. You have to experiment with `img_idx`, `height`,`width` and normalization such that you get high accuracy."
      ]
    },
    {
      "cell_type": "code",
      "execution_count": null,
      "metadata": {
        "id": "24LJdbP21eDg"
      },
      "outputs": [],
      "source": [
        "#Generator API\n",
        "def generator(source_path, folder_list,batch_size):\n",
        "    print( 'Source path = ', source_path, '; batch size =', batch_size)\n",
        "    #create a list of image numbers you want to use for a particular video\n",
        "    img_idx = np.round(np.linspace(0,29,frame_count)).astype(int)\n",
        "    while True:\n",
        "        t = np.random.permutation(folder_list)\n",
        "        num_batches = len(t)//batch_size\n",
        "        #Below code is to run the full batches\n",
        "        for batch in range(num_batches):\n",
        "            batch_data, batch_labels= process_batch_data(source_path,t,batch,img_idx,0)\n",
        "            yield batch_data, batch_labels\n",
        "        # write the code for the remaining data points which are left after full batches\n",
        "        remaining_imgs = len(t)%batch_size\n",
        "\n",
        "        if (remaining_imgs != 0):\n",
        "            batch_data, batch_labels= process_batch_data(source_path,t,num_batches,img_idx,remaining_imgs)\n",
        "            yield batch_data, batch_labels"
      ]
    },
    {
      "cell_type": "code",
      "execution_count": null,
      "metadata": {
        "id": "JJffparcc3x-"
      },
      "outputs": [],
      "source": [
        "# testing generative\n",
        "# frame_count = 10\n",
        "# img_y =160\n",
        "# img_z =160\n",
        "# test_gen = generator(train_path, train_doc, 1)\n",
        "# d = next(test_gen)[0]"
      ]
    },
    {
      "cell_type": "code",
      "execution_count": null,
      "metadata": {
        "id": "WOgHyFIpLqgf"
      },
      "outputs": [],
      "source": [
        "def model_train_fit(model,train_path,train_doc,val_path, val_doc,batch_size,frame_count,img_y,img_z,num_train_sequences,num_val_sequences,num_epochs):\n",
        "    #creates  train_generator and  val_generator which will be used in .fit_generator.\n",
        "    train_generator = generator(train_path, train_doc, batch_size)\n",
        "    val_generator = generator(val_path, val_doc, batch_size)\n",
        "\n",
        "    model_name = '/content/gdrive/MyDrive/Colab Notebooks/Project_data' + '_' + str(curr_dt_time).replace(' ','').replace(':','_') + '/'\n",
        "\n",
        "    if not os.path.exists(model_name):\n",
        "        os.mkdir(model_name)\n",
        "\n",
        "\n",
        "    filepath = model_name + 'model-{epoch:05d}-{loss:.5f}-{categorical_accuracy:.5f}-{val_loss:.5f}-{val_categorical_accuracy:.5f}.keras'\n",
        "\n",
        "    checkpoint = ModelCheckpoint(filepath, monitor='val_loss', verbose=1, save_best_only=True, save_weights_only=False, mode='auto', save_freq='epoch')\n",
        "\n",
        "    LR = ReduceLROnPlateau(monitor = \"val_loss\", factor = 0.2, patience = 3,verbose = 1)\n",
        "    callbacks_list = [checkpoint, LR]\n",
        "\n",
        "    #The `steps_per_epoch` and `validation_steps` are used by `fit` method to decide the number of next() calls it need to make.\n",
        "\n",
        "    if (num_train_sequences%batch_size) == 0:\n",
        "        steps_per_epoch = int(num_train_sequences/batch_size)\n",
        "    else:\n",
        "        steps_per_epoch = (num_train_sequences//batch_size) + 1\n",
        "\n",
        "    if (num_val_sequences%batch_size) == 0:\n",
        "        validation_steps = int(num_val_sequences/batch_size)\n",
        "    else:\n",
        "        validation_steps = (num_val_sequences//batch_size) + 1\n",
        "\n",
        "    #Let us now fit the model. This will start training the model and with the help of the checkpoints, you'll be able to save the model at the end of each epoch.\n",
        "    #The `steps_per_epoch` and `validation_steps` are used by `fit_generator` to decide the number of next() calls it need to make.\n",
        "\n",
        "    history = model.fit(train_generator, steps_per_epoch=steps_per_epoch, epochs=num_epochs, verbose=1,\n",
        "                        callbacks=callbacks_list, validation_data=val_generator,\n",
        "                        validation_steps=validation_steps, class_weight=None, workers=1,initial_epoch=0)\n",
        "    return history"
      ]
    },
    {
      "cell_type": "code",
      "execution_count": null,
      "metadata": {
        "id": "pc6WwuX5Lqgg"
      },
      "outputs": [],
      "source": [
        "#API to plot the model performance details\n",
        "def plot_model(history,epochs):\n",
        "  train_acc = history.history['categorical_accuracy']\n",
        "  val_acc = history.history['val_categorical_accuracy']\n",
        "\n",
        "  train_loss = history.history['loss']\n",
        "  val_loss = history.history['val_loss']\n",
        "\n",
        "  epochs_range = range(epochs)\n",
        "\n",
        "  plt.figure(figsize=(8, 8))\n",
        "  plt.subplot(1, 2, 1)\n",
        "  plt.plot(epochs_range, train_acc, label='Training Accuracy')\n",
        "  plt.plot(epochs_range, val_acc, label='Validation Accuracy')\n",
        "  plt.legend(loc='lower right')\n",
        "  plt.title('Training and Validation Accuracy')\n",
        "\n",
        "  plt.subplot(1, 2, 2)\n",
        "  plt.plot(epochs_range, train_loss, label='Training Loss')\n",
        "  plt.plot(epochs_range, val_loss, label='Validation Loss')\n",
        "  plt.legend(loc='upper right')\n",
        "  plt.title('Training and Validation Loss')\n",
        "  plt.show()"
      ]
    },
    {
      "cell_type": "code",
      "execution_count": null,
      "metadata": {
        "colab": {
          "base_uri": "https://localhost:8080/"
        },
        "id": "2Xg_1SVuaAnh",
        "outputId": "93166695-f737-4f9b-fc48-3a9991b57ebf"
      },
      "outputs": [
        {
          "output_type": "stream",
          "name": "stdout",
          "text": [
            "# training sequences = 663\n",
            "# validation sequences = 100\n",
            "# epochs = 15\n"
          ]
        }
      ],
      "source": [
        "curr_dt_time = datetime.datetime.now()\n",
        "num_train_sequences = len(train_doc)\n",
        "print('# training sequences =', num_train_sequences)\n",
        "num_val_sequences = len(val_doc)\n",
        "print('# validation sequences =', num_val_sequences)\n",
        "num_epochs = 15# choose the number of epochs\n",
        "print ('# epochs =', num_epochs)"
      ]
    },
    {
      "cell_type": "markdown",
      "metadata": {
        "id": "vyySqF_WaAnh"
      },
      "source": [
        "## Model\n",
        "Here you make the model using different functionalities that Keras provides. Remember to use `Conv3D` and `MaxPooling3D` and not `Conv2D` and `Maxpooling2D` for a 3D convolution model. You would want to use `TimeDistributed` while building a Conv2D + RNN model. Also remember that the last layer is the softmax. Design the network in such a way that the model is able to give good accuracy on the least number of parameters so that it can fit in the memory of the webcam."
      ]
    },
    {
      "cell_type": "markdown",
      "metadata": {
        "id": "q4-ptnWHaAnh"
      },
      "source": [
        "\n",
        "\n",
        "```\n",
        "# This is formatted as code\n",
        "```\n",
        "\n",
        "### Base Conv3D Model_1"
      ]
    },
    {
      "cell_type": "code",
      "execution_count": null,
      "metadata": {
        "id": "IiqxB29UaAnh"
      },
      "outputs": [],
      "source": [
        "# Model is defined with 4 3D-Convolution layers with BatchNormalization ,MaxPooling with \"relu\"\n",
        "# followed by 2 Dense layers one Dense layer uses \"relu\"  activation and \"softmax\" for output for the different categories\n",
        "def define_model(Input_shape,dropout=0.2,dense_neurons=128):\n",
        "    model = Sequential()\n",
        "\n",
        "    #1st 3D Convolution layer\n",
        "    model.add(Conv3D(16, (2,2,2), padding='same',input_shape=Input_shape))\n",
        "    model.add(Activation('relu'))\n",
        "    model.add(BatchNormalization())\n",
        "    model.add(MaxPooling3D(pool_size=(2, 2, 2)))\n",
        "\n",
        "    # 2nd Convolution layer\n",
        "    model.add(Conv3D(32, (2,2,2), padding='same'))\n",
        "    model.add(Activation('relu'))\n",
        "    model.add(BatchNormalization())\n",
        "    model.add(MaxPooling3D(pool_size=(2,2,2)))\n",
        "\n",
        "    # 3rd Convolution layer\n",
        "    model.add(Conv3D(64, (2,2,2), padding='same'))\n",
        "    model.add(Activation('relu'))\n",
        "    model.add(BatchNormalization())\n",
        "    model.add(MaxPooling3D(pool_size=(2,2,2)))\n",
        "\n",
        "    # 4th Convolution layer\n",
        "    model.add(Conv3D(128, (2,2,2), padding='same'))\n",
        "    model.add(Activation('relu'))\n",
        "    model.add(BatchNormalization())\n",
        "    model.add(MaxPooling3D(pool_size=(2,2,2)))\n",
        "\n",
        "    # Flatten\n",
        "    model.add(Flatten())\n",
        "\n",
        "    #Dense\n",
        "    model.add(Dense(dense_neurons,activation='relu'))\n",
        "    model.add(BatchNormalization())\n",
        "    model.add(Dropout(dropout))\n",
        "\n",
        "    # No of Categories are 5\n",
        "    model.add(Dense(5,activation='softmax'))\n",
        "\n",
        "    #Model compilation,\n",
        "    optimiser = optimizers.Adam()\n",
        "    model.compile(optimizer=optimiser, loss='categorical_crossentropy', metrics=['categorical_accuracy'])\n",
        "\n",
        "    return model"
      ]
    },
    {
      "cell_type": "code",
      "execution_count": null,
      "metadata": {
        "colab": {
          "base_uri": "https://localhost:8080/"
        },
        "id": "kVwthQYNaAnh",
        "outputId": "5d048f0a-ef92-4f17-cc24-4c9388ece6d3",
        "scrolled": true
      },
      "outputs": [
        {
          "output_type": "stream",
          "name": "stdout",
          "text": [
            "Model: \"sequential\"\n",
            "_________________________________________________________________\n",
            " Layer (type)                Output Shape              Param #   \n",
            "=================================================================\n",
            " conv3d (Conv3D)             (None, 30, 160, 160, 16   400       \n",
            "                             )                                   \n",
            "                                                                 \n",
            " activation (Activation)     (None, 30, 160, 160, 16   0         \n",
            "                             )                                   \n",
            "                                                                 \n",
            " batch_normalization (Batch  (None, 30, 160, 160, 16   64        \n",
            " Normalization)              )                                   \n",
            "                                                                 \n",
            " max_pooling3d (MaxPooling3  (None, 15, 80, 80, 16)    0         \n",
            " D)                                                              \n",
            "                                                                 \n",
            " conv3d_1 (Conv3D)           (None, 15, 80, 80, 32)    4128      \n",
            "                                                                 \n",
            " activation_1 (Activation)   (None, 15, 80, 80, 32)    0         \n",
            "                                                                 \n",
            " batch_normalization_1 (Bat  (None, 15, 80, 80, 32)    128       \n",
            " chNormalization)                                                \n",
            "                                                                 \n",
            " max_pooling3d_1 (MaxPoolin  (None, 7, 40, 40, 32)     0         \n",
            " g3D)                                                            \n",
            "                                                                 \n",
            " conv3d_2 (Conv3D)           (None, 7, 40, 40, 64)     16448     \n",
            "                                                                 \n",
            " activation_2 (Activation)   (None, 7, 40, 40, 64)     0         \n",
            "                                                                 \n",
            " batch_normalization_2 (Bat  (None, 7, 40, 40, 64)     256       \n",
            " chNormalization)                                                \n",
            "                                                                 \n",
            " max_pooling3d_2 (MaxPoolin  (None, 3, 20, 20, 64)     0         \n",
            " g3D)                                                            \n",
            "                                                                 \n",
            " conv3d_3 (Conv3D)           (None, 3, 20, 20, 128)    65664     \n",
            "                                                                 \n",
            " activation_3 (Activation)   (None, 3, 20, 20, 128)    0         \n",
            "                                                                 \n",
            " batch_normalization_3 (Bat  (None, 3, 20, 20, 128)    512       \n",
            " chNormalization)                                                \n",
            "                                                                 \n",
            " max_pooling3d_3 (MaxPoolin  (None, 1, 10, 10, 128)    0         \n",
            " g3D)                                                            \n",
            "                                                                 \n",
            " flatten (Flatten)           (None, 12800)             0         \n",
            "                                                                 \n",
            " dense (Dense)               (None, 128)               1638528   \n",
            "                                                                 \n",
            " batch_normalization_4 (Bat  (None, 128)               512       \n",
            " chNormalization)                                                \n",
            "                                                                 \n",
            " dropout (Dropout)           (None, 128)               0         \n",
            "                                                                 \n",
            " dense_1 (Dense)             (None, 5)                 645       \n",
            "                                                                 \n",
            "=================================================================\n",
            "Total params: 1727285 (6.59 MB)\n",
            "Trainable params: 1726549 (6.59 MB)\n",
            "Non-trainable params: 736 (2.88 KB)\n",
            "_________________________________________________________________\n",
            "None\n"
          ]
        }
      ],
      "source": [
        "#Print the summary of the model, we will see the total number of parameters you have to train.\n",
        "frame_count=30\n",
        "img_y =160\n",
        "img_z =160\n",
        "num_epochs = 10\n",
        "Input_shape = (frame_count, img_y, img_z, 3)\n",
        "model_1 = define_model(Input_shape)\n",
        "batch_size = 32\n",
        "print (model_1.summary())"
      ]
    },
    {
      "cell_type": "markdown",
      "metadata": {
        "id": "SVGt16IYjEOK"
      },
      "source": [
        "This will start training the model and with the help of the checkpoints, you'll be able to save the model at the end of each epoch."
      ]
    },
    {
      "cell_type": "code",
      "execution_count": null,
      "metadata": {
        "colab": {
          "base_uri": "https://localhost:8080/"
        },
        "id": "GQaIYeJdaAni",
        "outputId": "30a598c0-c90d-46e3-b1e3-523b0d42abf4"
      },
      "outputs": [
        {
          "output_type": "stream",
          "name": "stdout",
          "text": [
            "Source path =  /content/Project_data/train ; batch size = 32\n",
            "Epoch 1/10\n",
            "21/21 [==============================] - ETA: 0s - loss: 1.1707 - categorical_accuracy: 0.5762Source path =  /content/Project_data/val ; batch size = 32\n",
            "\n",
            "Epoch 1: val_loss improved from inf to 2.22808, saving model to /content/gdrive/MyDrive/Colab Notebooks/Project_data_2024-05-0618_45_35.453847/model-00001-1.17067-0.57617-2.22808-0.20000.keras\n",
            "21/21 [==============================] - 117s 5s/step - loss: 1.1707 - categorical_accuracy: 0.5762 - val_loss: 2.2281 - val_categorical_accuracy: 0.2000 - lr: 0.0010\n",
            "Epoch 2/10\n",
            "21/21 [==============================] - ETA: 0s - loss: 0.4841 - categorical_accuracy: 0.8477\n",
            "Epoch 2: val_loss did not improve from 2.22808\n",
            "21/21 [==============================] - 98s 5s/step - loss: 0.4841 - categorical_accuracy: 0.8477 - val_loss: 5.0642 - val_categorical_accuracy: 0.1700 - lr: 0.0010\n",
            "Epoch 3/10\n",
            "21/21 [==============================] - ETA: 0s - loss: 0.2439 - categorical_accuracy: 0.9291\n",
            "Epoch 3: val_loss did not improve from 2.22808\n",
            "21/21 [==============================] - 94s 5s/step - loss: 0.2439 - categorical_accuracy: 0.9291 - val_loss: 6.6582 - val_categorical_accuracy: 0.1900 - lr: 0.0010\n",
            "Epoch 4/10\n",
            "21/21 [==============================] - ETA: 0s - loss: 0.1229 - categorical_accuracy: 0.9759\n",
            "Epoch 4: val_loss did not improve from 2.22808\n",
            "\n",
            "Epoch 4: ReduceLROnPlateau reducing learning rate to 0.00020000000949949026.\n",
            "21/21 [==============================] - 95s 5s/step - loss: 0.1229 - categorical_accuracy: 0.9759 - val_loss: 5.9625 - val_categorical_accuracy: 0.2100 - lr: 0.0010\n",
            "Epoch 5/10\n",
            "21/21 [==============================] - ETA: 0s - loss: 0.0791 - categorical_accuracy: 0.9940\n",
            "Epoch 5: val_loss did not improve from 2.22808\n",
            "21/21 [==============================] - 95s 5s/step - loss: 0.0791 - categorical_accuracy: 0.9940 - val_loss: 6.2408 - val_categorical_accuracy: 0.2200 - lr: 2.0000e-04\n",
            "Epoch 6/10\n",
            "21/21 [==============================] - ETA: 0s - loss: 0.0422 - categorical_accuracy: 1.0000\n",
            "Epoch 6: val_loss did not improve from 2.22808\n",
            "21/21 [==============================] - 96s 5s/step - loss: 0.0422 - categorical_accuracy: 1.0000 - val_loss: 6.0199 - val_categorical_accuracy: 0.2500 - lr: 2.0000e-04\n",
            "Epoch 7/10\n",
            "21/21 [==============================] - ETA: 0s - loss: 0.0356 - categorical_accuracy: 0.9985\n",
            "Epoch 7: val_loss did not improve from 2.22808\n",
            "\n",
            "Epoch 7: ReduceLROnPlateau reducing learning rate to 4.0000001899898055e-05.\n",
            "21/21 [==============================] - 96s 5s/step - loss: 0.0356 - categorical_accuracy: 0.9985 - val_loss: 6.5163 - val_categorical_accuracy: 0.1900 - lr: 2.0000e-04\n",
            "Epoch 8/10\n",
            "21/21 [==============================] - ETA: 0s - loss: 0.0354 - categorical_accuracy: 1.0000\n",
            "Epoch 8: val_loss did not improve from 2.22808\n",
            "21/21 [==============================] - 91s 5s/step - loss: 0.0354 - categorical_accuracy: 1.0000 - val_loss: 6.1218 - val_categorical_accuracy: 0.2100 - lr: 4.0000e-05\n",
            "Epoch 9/10\n",
            "21/21 [==============================] - ETA: 0s - loss: 0.0313 - categorical_accuracy: 0.9985\n",
            "Epoch 9: val_loss did not improve from 2.22808\n",
            "21/21 [==============================] - 95s 5s/step - loss: 0.0313 - categorical_accuracy: 0.9985 - val_loss: 5.6978 - val_categorical_accuracy: 0.2100 - lr: 4.0000e-05\n",
            "Epoch 10/10\n",
            "21/21 [==============================] - ETA: 0s - loss: 0.0373 - categorical_accuracy: 0.9985\n",
            "Epoch 10: val_loss did not improve from 2.22808\n",
            "\n",
            "Epoch 10: ReduceLROnPlateau reducing learning rate to 8.000000525498762e-06.\n",
            "21/21 [==============================] - 94s 5s/step - loss: 0.0373 - categorical_accuracy: 0.9985 - val_loss: 5.2950 - val_categorical_accuracy: 0.2200 - lr: 4.0000e-05\n"
          ]
        }
      ],
      "source": [
        "history1 = model_train_fit(model_1,train_path,train_doc,val_path, val_doc,batch_size,\n",
        "                      frame_count,img_y,img_z,num_train_sequences,num_val_sequences,num_epochs)"
      ]
    },
    {
      "cell_type": "code",
      "execution_count": null,
      "metadata": {
        "id": "vN8H8S4FLqgh",
        "colab": {
          "base_uri": "https://localhost:8080/",
          "height": 699
        },
        "outputId": "09702a04-a08b-4432-c4e4-a7c51acff00b"
      },
      "outputs": [
        {
          "output_type": "display_data",
          "data": {
            "text/plain": [
              "<Figure size 800x800 with 2 Axes>"
            ],
            "image/png": "[encoded data removed]"
          },
          "metadata": {}
        }
      ],
      "source": [
        "plot_model(history1,num_epochs)"
      ]
    },
    {
      "cell_type": "markdown",
      "metadata": {
        "id": "9s1RXUCM8d-_"
      },
      "source": [
        "Observation: Model is Overfitting, Lets decrease the frames and resize the image, to increase the overall accuracy"
      ]
    },
    {
      "cell_type": "markdown",
      "metadata": {
        "id": "I6h2OvxMaAni"
      },
      "source": [
        "### Conv3D Model_2\n",
        " Reducing number of frames to  20 and image size to 120*120 and batch size = 20"
      ]
    },
    {
      "cell_type": "code",
      "execution_count": null,
      "metadata": {
        "id": "7E48DbyZaAni",
        "colab": {
          "base_uri": "https://localhost:8080/"
        },
        "outputId": "8d34b5b9-b87d-4512-d9e6-2ce27ca49de1"
      },
      "outputs": [
        {
          "output_type": "stream",
          "name": "stdout",
          "text": [
            "Model: \"sequential_1\"\n",
            "_________________________________________________________________\n",
            " Layer (type)                Output Shape              Param #   \n",
            "=================================================================\n",
            " conv3d_4 (Conv3D)           (None, 25, 120, 120, 16   400       \n",
            "                             )                                   \n",
            "                                                                 \n",
            " activation_4 (Activation)   (None, 25, 120, 120, 16   0         \n",
            "                             )                                   \n",
            "                                                                 \n",
            " batch_normalization_5 (Bat  (None, 25, 120, 120, 16   64        \n",
            " chNormalization)            )                                   \n",
            "                                                                 \n",
            " max_pooling3d_4 (MaxPoolin  (None, 12, 60, 60, 16)    0         \n",
            " g3D)                                                            \n",
            "                                                                 \n",
            " conv3d_5 (Conv3D)           (None, 12, 60, 60, 32)    4128      \n",
            "                                                                 \n",
            " activation_5 (Activation)   (None, 12, 60, 60, 32)    0         \n",
            "                                                                 \n",
            " batch_normalization_6 (Bat  (None, 12, 60, 60, 32)    128       \n",
            " chNormalization)                                                \n",
            "                                                                 \n",
            " max_pooling3d_5 (MaxPoolin  (None, 6, 30, 30, 32)     0         \n",
            " g3D)                                                            \n",
            "                                                                 \n",
            " conv3d_6 (Conv3D)           (None, 6, 30, 30, 64)     16448     \n",
            "                                                                 \n",
            " activation_6 (Activation)   (None, 6, 30, 30, 64)     0         \n",
            "                                                                 \n",
            " batch_normalization_7 (Bat  (None, 6, 30, 30, 64)     256       \n",
            " chNormalization)                                                \n",
            "                                                                 \n",
            " max_pooling3d_6 (MaxPoolin  (None, 3, 15, 15, 64)     0         \n",
            " g3D)                                                            \n",
            "                                                                 \n",
            " conv3d_7 (Conv3D)           (None, 3, 15, 15, 128)    65664     \n",
            "                                                                 \n",
            " activation_7 (Activation)   (None, 3, 15, 15, 128)    0         \n",
            "                                                                 \n",
            " batch_normalization_8 (Bat  (None, 3, 15, 15, 128)    512       \n",
            " chNormalization)                                                \n",
            "                                                                 \n",
            " max_pooling3d_7 (MaxPoolin  (None, 1, 7, 7, 128)      0         \n",
            " g3D)                                                            \n",
            "                                                                 \n",
            " flatten_1 (Flatten)         (None, 6272)              0         \n",
            "                                                                 \n",
            " dense_2 (Dense)             (None, 128)               802944    \n",
            "                                                                 \n",
            " batch_normalization_9 (Bat  (None, 128)               512       \n",
            " chNormalization)                                                \n",
            "                                                                 \n",
            " dropout_1 (Dropout)         (None, 128)               0         \n",
            "                                                                 \n",
            " dense_3 (Dense)             (None, 5)                 645       \n",
            "                                                                 \n",
            "=================================================================\n",
            "Total params: 891701 (3.40 MB)\n",
            "Trainable params: 890965 (3.40 MB)\n",
            "Non-trainable params: 736 (2.88 KB)\n",
            "_________________________________________________________________\n",
            "None\n"
          ]
        }
      ],
      "source": [
        "frame_count=25\n",
        "img_y =120\n",
        "img_z =120\n",
        "num_epochs = 10\n",
        "Input_shape = (frame_count, img_y, img_z, 3)\n",
        "batch_size = 20\n",
        "model_2 = define_model(Input_shape)\n",
        "print (model_2.summary())"
      ]
    },
    {
      "cell_type": "code",
      "execution_count": null,
      "metadata": {
        "id": "ZZSFbEXWLqgi",
        "colab": {
          "base_uri": "https://localhost:8080/"
        },
        "outputId": "306c61dd-30ce-4b78-9ecd-dbc68d35a4d9"
      },
      "outputs": [
        {
          "output_type": "stream",
          "name": "stdout",
          "text": [
            "Source path =  /content/Project_data/train ; batch size = 20\n",
            "Epoch 1/10\n",
            "34/34 [==============================] - ETA: 0s - loss: 1.2203 - categorical_accuracy: 0.5535Source path =  /content/Project_data/val ; batch size = 20\n",
            "\n",
            "Epoch 1: val_loss improved from inf to 4.20186, saving model to /content/gdrive/MyDrive/Colab Notebooks/Project_data_2024-05-0618_45_35.453847/model-00001-1.22027-0.55354-4.20186-0.21000.keras\n",
            "34/34 [==============================] - 68s 2s/step - loss: 1.2203 - categorical_accuracy: 0.5535 - val_loss: 4.2019 - val_categorical_accuracy: 0.2100 - lr: 0.0010\n",
            "Epoch 2/10\n",
            "34/34 [==============================] - ETA: 0s - loss: 0.5801 - categorical_accuracy: 0.7919\n",
            "Epoch 2: val_loss did not improve from 4.20186\n",
            "34/34 [==============================] - 66s 2s/step - loss: 0.5801 - categorical_accuracy: 0.7919 - val_loss: 8.7624 - val_categorical_accuracy: 0.2000 - lr: 0.0010\n",
            "Epoch 3/10\n",
            "34/34 [==============================] - ETA: 0s - loss: 0.3598 - categorical_accuracy: 0.8748\n",
            "Epoch 3: val_loss did not improve from 4.20186\n",
            "34/34 [==============================] - 58s 2s/step - loss: 0.3598 - categorical_accuracy: 0.8748 - val_loss: 10.5535 - val_categorical_accuracy: 0.2800 - lr: 0.0010\n",
            "Epoch 4/10\n",
            "34/34 [==============================] - ETA: 0s - loss: 0.2174 - categorical_accuracy: 0.9321\n",
            "Epoch 4: val_loss did not improve from 4.20186\n",
            "\n",
            "Epoch 4: ReduceLROnPlateau reducing learning rate to 0.00020000000949949026.\n",
            "34/34 [==============================] - 59s 2s/step - loss: 0.2174 - categorical_accuracy: 0.9321 - val_loss: 13.5786 - val_categorical_accuracy: 0.2600 - lr: 0.0010\n",
            "Epoch 5/10\n",
            "34/34 [==============================] - ETA: 0s - loss: 0.1300 - categorical_accuracy: 0.9729\n",
            "Epoch 5: val_loss did not improve from 4.20186\n",
            "34/34 [==============================] - 64s 2s/step - loss: 0.1300 - categorical_accuracy: 0.9729 - val_loss: 10.9542 - val_categorical_accuracy: 0.2300 - lr: 2.0000e-04\n",
            "Epoch 6/10\n",
            "34/34 [==============================] - ETA: 0s - loss: 0.0794 - categorical_accuracy: 0.9894\n",
            "Epoch 6: val_loss did not improve from 4.20186\n",
            "34/34 [==============================] - 59s 2s/step - loss: 0.0794 - categorical_accuracy: 0.9894 - val_loss: 9.8541 - val_categorical_accuracy: 0.2100 - lr: 2.0000e-04\n",
            "Epoch 7/10\n",
            "34/34 [==============================] - ETA: 0s - loss: 0.0623 - categorical_accuracy: 0.9985\n",
            "Epoch 7: val_loss did not improve from 4.20186\n",
            "\n",
            "Epoch 7: ReduceLROnPlateau reducing learning rate to 4.0000001899898055e-05.\n",
            "34/34 [==============================] - 59s 2s/step - loss: 0.0623 - categorical_accuracy: 0.9985 - val_loss: 7.8769 - val_categorical_accuracy: 0.3000 - lr: 2.0000e-04\n",
            "Epoch 8/10\n",
            "34/34 [==============================] - ETA: 0s - loss: 0.0537 - categorical_accuracy: 0.9925\n",
            "Epoch 8: val_loss did not improve from 4.20186\n",
            "34/34 [==============================] - 65s 2s/step - loss: 0.0537 - categorical_accuracy: 0.9925 - val_loss: 6.2641 - val_categorical_accuracy: 0.2500 - lr: 4.0000e-05\n",
            "Epoch 9/10\n",
            "33/34 [============================>.] - ETA: 1s - loss: 0.0615 - categorical_accuracy: 0.9939\n",
            "Epoch 9: val_loss did not improve from 4.20186\n",
            "34/34 [==============================] - 59s 2s/step - loss: 0.0647 - categorical_accuracy: 0.9910 - val_loss: 5.0226 - val_categorical_accuracy: 0.2900 - lr: 4.0000e-05\n",
            "Epoch 10/10\n",
            "34/34 [==============================] - ETA: 0s - loss: 0.0487 - categorical_accuracy: 0.9985\n",
            "Epoch 10: val_loss improved from 4.20186 to 4.04960, saving model to /content/gdrive/MyDrive/Colab Notebooks/Project_data_2024-05-0618_45_35.453847/model-00010-0.04873-0.99849-4.04960-0.38000.keras\n",
            "34/34 [==============================] - 64s 2s/step - loss: 0.0487 - categorical_accuracy: 0.9985 - val_loss: 4.0496 - val_categorical_accuracy: 0.3800 - lr: 4.0000e-05\n"
          ]
        }
      ],
      "source": [
        "history2 = model_train_fit(model_2,train_path,train_doc,val_path, val_doc,batch_size,\n",
        "                      frame_count,img_y,img_z,num_train_sequences,num_val_sequences,num_epochs)"
      ]
    },
    {
      "cell_type": "code",
      "execution_count": null,
      "metadata": {
        "id": "9lowqMENLqgi",
        "colab": {
          "base_uri": "https://localhost:8080/",
          "height": 699
        },
        "outputId": "6f6de0c5-cd23-49bd-f8c1-ef995b7af637"
      },
      "outputs": [
        {
          "output_type": "display_data",
          "data": {
            "text/plain": [
              "<Figure size 800x800 with 2 Axes>"
            ],
            "image/png": "[encoded data removed]"
          },
          "metadata": {}
        }
      ],
      "source": [
        "plot_model(history2,num_epochs)"
      ]
    },
    {
      "cell_type": "markdown",
      "metadata": {
        "id": "P-_SBq-78d_A"
      },
      "source": [
        "Observation:Still overfitting, as well as the model training accuracy reduced as compare to base model."
      ]
    },
    {
      "cell_type": "markdown",
      "metadata": {
        "id": "r9mlKXpAaAni"
      },
      "source": [
        "### Conv3D Model_3\n",
        "Increaing Dropout % to 0.4 from 0.2 and increaing image size back to 160*160"
      ]
    },
    {
      "cell_type": "code",
      "execution_count": null,
      "metadata": {
        "id": "81CyP-TFaAni",
        "colab": {
          "base_uri": "https://localhost:8080/"
        },
        "outputId": "20687f5a-65b6-456f-9429-49e40d579f96"
      },
      "outputs": [
        {
          "output_type": "stream",
          "name": "stdout",
          "text": [
            "Model: \"sequential_2\"\n",
            "_________________________________________________________________\n",
            " Layer (type)                Output Shape              Param #   \n",
            "=================================================================\n",
            " conv3d_8 (Conv3D)           (None, 20, 160, 160, 16   400       \n",
            "                             )                                   \n",
            "                                                                 \n",
            " activation_8 (Activation)   (None, 20, 160, 160, 16   0         \n",
            "                             )                                   \n",
            "                                                                 \n",
            " batch_normalization_10 (Ba  (None, 20, 160, 160, 16   64        \n",
            " tchNormalization)           )                                   \n",
            "                                                                 \n",
            " max_pooling3d_8 (MaxPoolin  (None, 10, 80, 80, 16)    0         \n",
            " g3D)                                                            \n",
            "                                                                 \n",
            " conv3d_9 (Conv3D)           (None, 10, 80, 80, 32)    4128      \n",
            "                                                                 \n",
            " activation_9 (Activation)   (None, 10, 80, 80, 32)    0         \n",
            "                                                                 \n",
            " batch_normalization_11 (Ba  (None, 10, 80, 80, 32)    128       \n",
            " tchNormalization)                                               \n",
            "                                                                 \n",
            " max_pooling3d_9 (MaxPoolin  (None, 5, 40, 40, 32)     0         \n",
            " g3D)                                                            \n",
            "                                                                 \n",
            " conv3d_10 (Conv3D)          (None, 5, 40, 40, 64)     16448     \n",
            "                                                                 \n",
            " activation_10 (Activation)  (None, 5, 40, 40, 64)     0         \n",
            "                                                                 \n",
            " batch_normalization_12 (Ba  (None, 5, 40, 40, 64)     256       \n",
            " tchNormalization)                                               \n",
            "                                                                 \n",
            " max_pooling3d_10 (MaxPooli  (None, 2, 20, 20, 64)     0         \n",
            " ng3D)                                                           \n",
            "                                                                 \n",
            " conv3d_11 (Conv3D)          (None, 2, 20, 20, 128)    65664     \n",
            "                                                                 \n",
            " activation_11 (Activation)  (None, 2, 20, 20, 128)    0         \n",
            "                                                                 \n",
            " batch_normalization_13 (Ba  (None, 2, 20, 20, 128)    512       \n",
            " tchNormalization)                                               \n",
            "                                                                 \n",
            " max_pooling3d_11 (MaxPooli  (None, 1, 10, 10, 128)    0         \n",
            " ng3D)                                                           \n",
            "                                                                 \n",
            " flatten_2 (Flatten)         (None, 12800)             0         \n",
            "                                                                 \n",
            " dense_4 (Dense)             (None, 128)               1638528   \n",
            "                                                                 \n",
            " batch_normalization_14 (Ba  (None, 128)               512       \n",
            " tchNormalization)                                               \n",
            "                                                                 \n",
            " dropout_2 (Dropout)         (None, 128)               0         \n",
            "                                                                 \n",
            " dense_5 (Dense)             (None, 5)                 645       \n",
            "                                                                 \n",
            "=================================================================\n",
            "Total params: 1727285 (6.59 MB)\n",
            "Trainable params: 1726549 (6.59 MB)\n",
            "Non-trainable params: 736 (2.88 KB)\n",
            "_________________________________________________________________\n",
            "None\n"
          ]
        }
      ],
      "source": [
        "frame_count=20\n",
        "img_y =160\n",
        "img_z =160\n",
        "Input_shape = (frame_count, img_y, img_z, 3)\n",
        "model_3 = define_model(Input_shape,0.40)\n",
        "num_epochs = 15\n",
        "batch_size = 25\n",
        "print (model_3.summary())"
      ]
    },
    {
      "cell_type": "code",
      "execution_count": 30,
      "metadata": {
        "id": "HsmV93oLaAnj",
        "colab": {
          "base_uri": "https://localhost:8080/"
        },
        "outputId": "a0b2ba81-868e-44b6-9c01-fbbf4af73141"
      },
      "outputs": [
        {
          "output_type": "stream",
          "name": "stdout",
          "text": [
            "Source path =  /content/Project_data/train ; batch size = 25\n",
            "Epoch 1/15\n",
            "27/27 [==============================] - ETA: 0s - loss: 1.1297 - categorical_accuracy: 0.6139Source path =  /content/Project_data/val ; batch size = 25\n",
            "\n",
            "Epoch 1: val_loss improved from inf to 6.87436, saving model to /content/gdrive/MyDrive/Colab Notebooks/Project_data_2024-05-0618_45_35.453847/model-00001-1.12970-0.61388-6.87436-0.21000.keras\n",
            "27/27 [==============================] - 76s 3s/step - loss: 1.1297 - categorical_accuracy: 0.6139 - val_loss: 6.8744 - val_categorical_accuracy: 0.2100 - lr: 0.0010\n",
            "Epoch 2/15\n",
            "27/27 [==============================] - ETA: 0s - loss: 0.5702 - categorical_accuracy: 0.7964\n",
            "Epoch 2: val_loss did not improve from 6.87436\n",
            "27/27 [==============================] - 65s 2s/step - loss: 0.5702 - categorical_accuracy: 0.7964 - val_loss: 10.8976 - val_categorical_accuracy: 0.2300 - lr: 0.0010\n",
            "Epoch 3/15\n",
            "27/27 [==============================] - ETA: 0s - loss: 0.2905 - categorical_accuracy: 0.9125\n",
            "Epoch 3: val_loss did not improve from 6.87436\n",
            "27/27 [==============================] - 64s 2s/step - loss: 0.2905 - categorical_accuracy: 0.9125 - val_loss: 13.0733 - val_categorical_accuracy: 0.2300 - lr: 0.0010\n",
            "Epoch 4/15\n",
            "27/27 [==============================] - ETA: 0s - loss: 0.1772 - categorical_accuracy: 0.9517\n",
            "Epoch 4: val_loss did not improve from 6.87436\n",
            "\n",
            "Epoch 4: ReduceLROnPlateau reducing learning rate to 0.00020000000949949026.\n",
            "27/27 [==============================] - 70s 3s/step - loss: 0.1772 - categorical_accuracy: 0.9517 - val_loss: 15.3222 - val_categorical_accuracy: 0.2300 - lr: 0.0010\n",
            "Epoch 5/15\n",
            "27/27 [==============================] - ETA: 0s - loss: 0.0996 - categorical_accuracy: 0.9819\n",
            "Epoch 5: val_loss did not improve from 6.87436\n",
            "27/27 [==============================] - 70s 3s/step - loss: 0.0996 - categorical_accuracy: 0.9819 - val_loss: 16.1591 - val_categorical_accuracy: 0.2100 - lr: 2.0000e-04\n",
            "Epoch 6/15\n",
            "27/27 [==============================] - ETA: 0s - loss: 0.0754 - categorical_accuracy: 0.9925\n",
            "Epoch 6: val_loss did not improve from 6.87436\n",
            "27/27 [==============================] - 63s 2s/step - loss: 0.0754 - categorical_accuracy: 0.9925 - val_loss: 14.9586 - val_categorical_accuracy: 0.2000 - lr: 2.0000e-04\n",
            "Epoch 7/15\n",
            "27/27 [==============================] - ETA: 0s - loss: 0.0613 - categorical_accuracy: 0.9940\n",
            "Epoch 7: val_loss did not improve from 6.87436\n",
            "\n",
            "Epoch 7: ReduceLROnPlateau reducing learning rate to 4.0000001899898055e-05.\n",
            "27/27 [==============================] - 70s 3s/step - loss: 0.0613 - categorical_accuracy: 0.9940 - val_loss: 13.3333 - val_categorical_accuracy: 0.1700 - lr: 2.0000e-04\n",
            "Epoch 8/15\n",
            "27/27 [==============================] - ETA: 0s - loss: 0.0512 - categorical_accuracy: 0.9970\n",
            "Epoch 8: val_loss did not improve from 6.87436\n",
            "27/27 [==============================] - 63s 2s/step - loss: 0.0512 - categorical_accuracy: 0.9970 - val_loss: 11.7714 - val_categorical_accuracy: 0.1900 - lr: 4.0000e-05\n",
            "Epoch 9/15\n",
            "27/27 [==============================] - ETA: 0s - loss: 0.0548 - categorical_accuracy: 0.9925\n",
            "Epoch 9: val_loss did not improve from 6.87436\n",
            "27/27 [==============================] - 63s 2s/step - loss: 0.0548 - categorical_accuracy: 0.9925 - val_loss: 10.3356 - val_categorical_accuracy: 0.2100 - lr: 4.0000e-05\n",
            "Epoch 10/15\n",
            "27/27 [==============================] - ETA: 0s - loss: 0.0493 - categorical_accuracy: 0.9955\n",
            "Epoch 10: val_loss did not improve from 6.87436\n",
            "\n",
            "Epoch 10: ReduceLROnPlateau reducing learning rate to 8.000000525498762e-06.\n",
            "27/27 [==============================] - 64s 2s/step - loss: 0.0493 - categorical_accuracy: 0.9955 - val_loss: 9.1586 - val_categorical_accuracy: 0.2000 - lr: 4.0000e-05\n",
            "Epoch 11/15\n",
            "27/27 [==============================] - ETA: 0s - loss: 0.0432 - categorical_accuracy: 0.9970\n",
            "Epoch 11: val_loss did not improve from 6.87436\n",
            "27/27 [==============================] - 71s 3s/step - loss: 0.0432 - categorical_accuracy: 0.9970 - val_loss: 7.8254 - val_categorical_accuracy: 0.2000 - lr: 8.0000e-06\n",
            "Epoch 12/15\n",
            "27/27 [==============================] - ETA: 0s - loss: 0.0387 - categorical_accuracy: 0.9985\n",
            "Epoch 12: val_loss improved from 6.87436 to 6.59647, saving model to /content/gdrive/MyDrive/Colab Notebooks/Project_data_2024-05-0618_45_35.453847/model-00012-0.03865-0.99849-6.59647-0.23000.keras\n",
            "27/27 [==============================] - 63s 2s/step - loss: 0.0387 - categorical_accuracy: 0.9985 - val_loss: 6.5965 - val_categorical_accuracy: 0.2300 - lr: 8.0000e-06\n",
            "Epoch 13/15\n",
            "27/27 [==============================] - ETA: 0s - loss: 0.0501 - categorical_accuracy: 0.9940\n",
            "Epoch 13: val_loss improved from 6.59647 to 5.96472, saving model to /content/gdrive/MyDrive/Colab Notebooks/Project_data_2024-05-0618_45_35.453847/model-00013-0.05008-0.99397-5.96472-0.21000.keras\n",
            "27/27 [==============================] - 70s 3s/step - loss: 0.0501 - categorical_accuracy: 0.9940 - val_loss: 5.9647 - val_categorical_accuracy: 0.2100 - lr: 8.0000e-06\n",
            "Epoch 14/15\n",
            "27/27 [==============================] - ETA: 0s - loss: 0.0469 - categorical_accuracy: 0.9985\n",
            "Epoch 14: val_loss improved from 5.96472 to 5.32795, saving model to /content/gdrive/MyDrive/Colab Notebooks/Project_data_2024-05-0618_45_35.453847/model-00014-0.04688-0.99849-5.32795-0.22000.keras\n",
            "27/27 [==============================] - 61s 2s/step - loss: 0.0469 - categorical_accuracy: 0.9985 - val_loss: 5.3279 - val_categorical_accuracy: 0.2200 - lr: 8.0000e-06\n",
            "Epoch 15/15\n",
            "27/27 [==============================] - ETA: 0s - loss: 0.0464 - categorical_accuracy: 0.9970\n",
            "Epoch 15: val_loss improved from 5.32795 to 4.86679, saving model to /content/gdrive/MyDrive/Colab Notebooks/Project_data_2024-05-0618_45_35.453847/model-00015-0.04638-0.99698-4.86679-0.20000.keras\n",
            "27/27 [==============================] - 62s 2s/step - loss: 0.0464 - categorical_accuracy: 0.9970 - val_loss: 4.8668 - val_categorical_accuracy: 0.2000 - lr: 8.0000e-06\n"
          ]
        }
      ],
      "source": [
        "history3 = model_train_fit(model_3,train_path,train_doc,val_path, val_doc,batch_size,\n",
        "                      frame_count,img_y,img_z,num_train_sequences,num_val_sequences,num_epochs)"
      ]
    },
    {
      "cell_type": "code",
      "execution_count": 31,
      "metadata": {
        "id": "YOyfJa5PLqgi",
        "colab": {
          "base_uri": "https://localhost:8080/",
          "height": 699
        },
        "outputId": "8953685b-b8ef-4678-dc87-32f65373b336"
      },
      "outputs": [
        {
          "output_type": "display_data",
          "data": {
            "text/plain": [
              "<Figure size 800x800 with 2 Axes>"
            ],
            "image/png": "[encoded data removed]"
          },
          "metadata": {}
        }
      ],
      "source": [
        "plot_model(history3,num_epochs)"
      ]
    },
    {
      "cell_type": "markdown",
      "metadata": {
        "id": "LP0YNlUE8d_A"
      },
      "source": [
        "Observation:Model is still Overfitting."
      ]
    },
    {
      "cell_type": "markdown",
      "metadata": {
        "id": "lQRzyBdgj5sn"
      },
      "source": [
        "### CON3D Model_4\n",
        "Increasing number of neurons in Dense layer and also applying explicit LR instead of default LR"
      ]
    },
    {
      "cell_type": "code",
      "execution_count": 32,
      "metadata": {
        "id": "pHZ115T1Lqgi",
        "colab": {
          "base_uri": "https://localhost:8080/"
        },
        "outputId": "df1982e2-1774-4ece-a976-0db158c8bb77"
      },
      "outputs": [
        {
          "output_type": "stream",
          "name": "stdout",
          "text": [
            "Model: \"sequential_3\"\n",
            "_________________________________________________________________\n",
            " Layer (type)                Output Shape              Param #   \n",
            "=================================================================\n",
            " conv3d_12 (Conv3D)          (None, 20, 130, 130, 16   400       \n",
            "                             )                                   \n",
            "                                                                 \n",
            " activation_12 (Activation)  (None, 20, 130, 130, 16   0         \n",
            "                             )                                   \n",
            "                                                                 \n",
            " batch_normalization_15 (Ba  (None, 20, 130, 130, 16   64        \n",
            " tchNormalization)           )                                   \n",
            "                                                                 \n",
            " max_pooling3d_12 (MaxPooli  (None, 10, 65, 65, 16)    0         \n",
            " ng3D)                                                           \n",
            "                                                                 \n",
            " conv3d_13 (Conv3D)          (None, 10, 65, 65, 32)    4128      \n",
            "                                                                 \n",
            " activation_13 (Activation)  (None, 10, 65, 65, 32)    0         \n",
            "                                                                 \n",
            " batch_normalization_16 (Ba  (None, 10, 65, 65, 32)    128       \n",
            " tchNormalization)                                               \n",
            "                                                                 \n",
            " max_pooling3d_13 (MaxPooli  (None, 5, 32, 32, 32)     0         \n",
            " ng3D)                                                           \n",
            "                                                                 \n",
            " conv3d_14 (Conv3D)          (None, 5, 32, 32, 64)     16448     \n",
            "                                                                 \n",
            " activation_14 (Activation)  (None, 5, 32, 32, 64)     0         \n",
            "                                                                 \n",
            " batch_normalization_17 (Ba  (None, 5, 32, 32, 64)     256       \n",
            " tchNormalization)                                               \n",
            "                                                                 \n",
            " max_pooling3d_14 (MaxPooli  (None, 2, 16, 16, 64)     0         \n",
            " ng3D)                                                           \n",
            "                                                                 \n",
            " conv3d_15 (Conv3D)          (None, 2, 16, 16, 128)    65664     \n",
            "                                                                 \n",
            " activation_15 (Activation)  (None, 2, 16, 16, 128)    0         \n",
            "                                                                 \n",
            " batch_normalization_18 (Ba  (None, 2, 16, 16, 128)    512       \n",
            " tchNormalization)                                               \n",
            "                                                                 \n",
            " max_pooling3d_15 (MaxPooli  (None, 1, 8, 8, 128)      0         \n",
            " ng3D)                                                           \n",
            "                                                                 \n",
            " flatten_3 (Flatten)         (None, 8192)              0         \n",
            "                                                                 \n",
            " dense_6 (Dense)             (None, 256)               2097408   \n",
            "                                                                 \n",
            " batch_normalization_19 (Ba  (None, 256)               1024      \n",
            " tchNormalization)                                               \n",
            "                                                                 \n",
            " dropout_3 (Dropout)         (None, 256)               0         \n",
            "                                                                 \n",
            " dense_7 (Dense)             (None, 5)                 1285      \n",
            "                                                                 \n",
            "=================================================================\n",
            "Total params: 2187317 (8.34 MB)\n",
            "Trainable params: 2186325 (8.34 MB)\n",
            "Non-trainable params: 992 (3.88 KB)\n",
            "_________________________________________________________________\n",
            "None\n"
          ]
        }
      ],
      "source": [
        "frame_count=20\n",
        "img_y =130\n",
        "img_z =130\n",
        "Input_shape = (frame_count, img_y, img_z, 3)\n",
        "model_4 = define_model(Input_shape,0.40,256)\n",
        "num_epochs = 20\n",
        "batch_size = 20\n",
        "print (model_4.summary())"
      ]
    },
    {
      "cell_type": "code",
      "execution_count": 33,
      "metadata": {
        "id": "X4tT9UjeLqgi"
      },
      "outputs": [],
      "source": [
        "#explitly changing learning rate\n",
        "optimiser = optimizers.Adam(learning_rate = 0.0003)#write your optimizer\n",
        "model_4.compile(optimizer=optimiser, loss='categorical_crossentropy', metrics=['categorical_accuracy'])"
      ]
    },
    {
      "cell_type": "code",
      "execution_count": 34,
      "metadata": {
        "id": "7FUjfb3JLqgm",
        "colab": {
          "base_uri": "https://localhost:8080/"
        },
        "outputId": "7d11357d-3d0a-4eea-cdd6-b23a5c71daf1"
      },
      "outputs": [
        {
          "output_type": "stream",
          "name": "stdout",
          "text": [
            "Source path =  /content/Project_data/train ; batch size = 20\n",
            "Epoch 1/20\n",
            "34/34 [==============================] - ETA: 0s - loss: 1.4229 - categorical_accuracy: 0.5279Source path =  /content/Project_data/val ; batch size = 20\n",
            "\n",
            "Epoch 1: val_loss improved from inf to 3.53454, saving model to /content/gdrive/MyDrive/Colab Notebooks/Project_data_2024-05-0618_45_35.453847/model-00001-1.42291-0.52790-3.53454-0.21000.keras\n",
            "34/34 [==============================] - 61s 2s/step - loss: 1.4229 - categorical_accuracy: 0.5279 - val_loss: 3.5345 - val_categorical_accuracy: 0.2100 - lr: 3.0000e-04\n",
            "Epoch 2/20\n",
            "34/34 [==============================] - ETA: 0s - loss: 0.5688 - categorical_accuracy: 0.7632\n",
            "Epoch 2: val_loss did not improve from 3.53454\n",
            "34/34 [==============================] - 62s 2s/step - loss: 0.5688 - categorical_accuracy: 0.7632 - val_loss: 6.2356 - val_categorical_accuracy: 0.2200 - lr: 3.0000e-04\n",
            "Epoch 3/20\n",
            "33/34 [============================>.] - ETA: 1s - loss: 0.3624 - categorical_accuracy: 0.8848\n",
            "Epoch 3: val_loss did not improve from 3.53454\n",
            "34/34 [==============================] - 52s 2s/step - loss: 0.3664 - categorical_accuracy: 0.8839 - val_loss: 9.6521 - val_categorical_accuracy: 0.1500 - lr: 3.0000e-04\n",
            "Epoch 4/20\n",
            "34/34 [==============================] - ETA: 0s - loss: 0.2443 - categorical_accuracy: 0.9186\n",
            "Epoch 4: val_loss did not improve from 3.53454\n",
            "\n",
            "Epoch 4: ReduceLROnPlateau reducing learning rate to 6.000000284984708e-05.\n",
            "34/34 [==============================] - 59s 2s/step - loss: 0.2443 - categorical_accuracy: 0.9186 - val_loss: 9.5334 - val_categorical_accuracy: 0.2300 - lr: 3.0000e-04\n",
            "Epoch 5/20\n",
            "34/34 [==============================] - ETA: 0s - loss: 0.1304 - categorical_accuracy: 0.9713\n",
            "Epoch 5: val_loss did not improve from 3.53454\n",
            "34/34 [==============================] - 52s 2s/step - loss: 0.1304 - categorical_accuracy: 0.9713 - val_loss: 11.1853 - val_categorical_accuracy: 0.1700 - lr: 6.0000e-05\n",
            "Epoch 6/20\n",
            "34/34 [==============================] - ETA: 0s - loss: 0.1127 - categorical_accuracy: 0.9774\n",
            "Epoch 6: val_loss did not improve from 3.53454\n",
            "34/34 [==============================] - 52s 2s/step - loss: 0.1127 - categorical_accuracy: 0.9774 - val_loss: 10.3205 - val_categorical_accuracy: 0.2100 - lr: 6.0000e-05\n",
            "Epoch 7/20\n",
            "34/34 [==============================] - ETA: 0s - loss: 0.0981 - categorical_accuracy: 0.9910\n",
            "Epoch 7: val_loss did not improve from 3.53454\n",
            "\n",
            "Epoch 7: ReduceLROnPlateau reducing learning rate to 1.2000000424450263e-05.\n",
            "34/34 [==============================] - 52s 2s/step - loss: 0.0981 - categorical_accuracy: 0.9910 - val_loss: 9.1377 - val_categorical_accuracy: 0.2400 - lr: 6.0000e-05\n",
            "Epoch 8/20\n",
            "33/34 [============================>.] - ETA: 1s - loss: 0.0853 - categorical_accuracy: 0.9894\n",
            "Epoch 8: val_loss did not improve from 3.53454\n",
            "34/34 [==============================] - 61s 2s/step - loss: 0.0864 - categorical_accuracy: 0.9879 - val_loss: 8.1108 - val_categorical_accuracy: 0.1900 - lr: 1.2000e-05\n",
            "Epoch 9/20\n",
            "33/34 [============================>.] - ETA: 1s - loss: 0.0695 - categorical_accuracy: 0.9924\n",
            "Epoch 9: val_loss did not improve from 3.53454\n",
            "34/34 [==============================] - 61s 2s/step - loss: 0.0713 - categorical_accuracy: 0.9925 - val_loss: 6.3859 - val_categorical_accuracy: 0.2700 - lr: 1.2000e-05\n",
            "Epoch 10/20\n",
            "34/34 [==============================] - ETA: 0s - loss: 0.0900 - categorical_accuracy: 0.9834\n",
            "Epoch 10: val_loss did not improve from 3.53454\n",
            "\n",
            "Epoch 10: ReduceLROnPlateau reducing learning rate to 2.4000000848900527e-06.\n",
            "34/34 [==============================] - 60s 2s/step - loss: 0.0900 - categorical_accuracy: 0.9834 - val_loss: 5.6905 - val_categorical_accuracy: 0.2000 - lr: 1.2000e-05\n",
            "Epoch 11/20\n",
            "34/34 [==============================] - ETA: 0s - loss: 0.0880 - categorical_accuracy: 0.9834\n",
            "Epoch 11: val_loss did not improve from 3.53454\n",
            "34/34 [==============================] - 53s 2s/step - loss: 0.0880 - categorical_accuracy: 0.9834 - val_loss: 4.6337 - val_categorical_accuracy: 0.2100 - lr: 2.4000e-06\n",
            "Epoch 12/20\n",
            "34/34 [==============================] - ETA: 0s - loss: 0.0752 - categorical_accuracy: 0.9940\n",
            "Epoch 12: val_loss did not improve from 3.53454\n",
            "34/34 [==============================] - 53s 2s/step - loss: 0.0752 - categorical_accuracy: 0.9940 - val_loss: 3.5715 - val_categorical_accuracy: 0.2600 - lr: 2.4000e-06\n",
            "Epoch 13/20\n",
            "34/34 [==============================] - ETA: 0s - loss: 0.0747 - categorical_accuracy: 0.9894\n",
            "Epoch 13: val_loss improved from 3.53454 to 2.85623, saving model to /content/gdrive/MyDrive/Colab Notebooks/Project_data_2024-05-0618_45_35.453847/model-00013-0.07472-0.98944-2.85623-0.22000.keras\n",
            "34/34 [==============================] - 52s 2s/step - loss: 0.0747 - categorical_accuracy: 0.9894 - val_loss: 2.8562 - val_categorical_accuracy: 0.2200 - lr: 2.4000e-06\n",
            "Epoch 14/20\n",
            "34/34 [==============================] - ETA: 0s - loss: 0.0814 - categorical_accuracy: 0.9819\n",
            "Epoch 14: val_loss improved from 2.85623 to 2.25707, saving model to /content/gdrive/MyDrive/Colab Notebooks/Project_data_2024-05-0618_45_35.453847/model-00014-0.08135-0.98190-2.25707-0.34000.keras\n",
            "34/34 [==============================] - 53s 2s/step - loss: 0.0814 - categorical_accuracy: 0.9819 - val_loss: 2.2571 - val_categorical_accuracy: 0.3400 - lr: 2.4000e-06\n",
            "Epoch 15/20\n",
            "34/34 [==============================] - ETA: 0s - loss: 0.0800 - categorical_accuracy: 0.9879\n",
            "Epoch 15: val_loss improved from 2.25707 to 1.80340, saving model to /content/gdrive/MyDrive/Colab Notebooks/Project_data_2024-05-0618_45_35.453847/model-00015-0.07999-0.98793-1.80340-0.48000.keras\n",
            "34/34 [==============================] - 54s 2s/step - loss: 0.0800 - categorical_accuracy: 0.9879 - val_loss: 1.8034 - val_categorical_accuracy: 0.4800 - lr: 2.4000e-06\n",
            "Epoch 16/20\n",
            "34/34 [==============================] - ETA: 0s - loss: 0.0758 - categorical_accuracy: 0.9849\n",
            "Epoch 16: val_loss improved from 1.80340 to 1.31409, saving model to /content/gdrive/MyDrive/Colab Notebooks/Project_data_2024-05-0618_45_35.453847/model-00016-0.07576-0.98492-1.31409-0.60000.keras\n",
            "34/34 [==============================] - 52s 2s/step - loss: 0.0758 - categorical_accuracy: 0.9849 - val_loss: 1.3141 - val_categorical_accuracy: 0.6000 - lr: 2.4000e-06\n",
            "Epoch 17/20\n",
            "33/34 [============================>.] - ETA: 1s - loss: 0.0902 - categorical_accuracy: 0.9818\n",
            "Epoch 17: val_loss improved from 1.31409 to 1.09073, saving model to /content/gdrive/MyDrive/Colab Notebooks/Project_data_2024-05-0618_45_35.453847/model-00017-0.09057-0.98190-1.09073-0.62000.keras\n",
            "34/34 [==============================] - 60s 2s/step - loss: 0.0906 - categorical_accuracy: 0.9819 - val_loss: 1.0907 - val_categorical_accuracy: 0.6200 - lr: 2.4000e-06\n",
            "Epoch 18/20\n",
            "33/34 [============================>.] - ETA: 1s - loss: 0.0647 - categorical_accuracy: 0.9909\n",
            "Epoch 18: val_loss improved from 1.09073 to 0.89976, saving model to /content/gdrive/MyDrive/Colab Notebooks/Project_data_2024-05-0618_45_35.453847/model-00018-0.07221-0.98793-0.89976-0.69000.keras\n",
            "34/34 [==============================] - 52s 2s/step - loss: 0.0722 - categorical_accuracy: 0.9879 - val_loss: 0.8998 - val_categorical_accuracy: 0.6900 - lr: 2.4000e-06\n",
            "Epoch 19/20\n",
            "34/34 [==============================] - ETA: 0s - loss: 0.0853 - categorical_accuracy: 0.9849\n",
            "Epoch 19: val_loss improved from 0.89976 to 0.88464, saving model to /content/gdrive/MyDrive/Colab Notebooks/Project_data_2024-05-0618_45_35.453847/model-00019-0.08527-0.98492-0.88464-0.69000.keras\n",
            "34/34 [==============================] - 61s 2s/step - loss: 0.0853 - categorical_accuracy: 0.9849 - val_loss: 0.8846 - val_categorical_accuracy: 0.6900 - lr: 2.4000e-06\n",
            "Epoch 20/20\n",
            "33/34 [============================>.] - ETA: 1s - loss: 0.0861 - categorical_accuracy: 0.9833\n",
            "Epoch 20: val_loss improved from 0.88464 to 0.74784, saving model to /content/gdrive/MyDrive/Colab Notebooks/Project_data_2024-05-0618_45_35.453847/model-00020-0.08786-0.98190-0.74784-0.75000.keras\n",
            "34/34 [==============================] - 60s 2s/step - loss: 0.0879 - categorical_accuracy: 0.9819 - val_loss: 0.7478 - val_categorical_accuracy: 0.7500 - lr: 2.4000e-06\n"
          ]
        }
      ],
      "source": [
        "history4 = model_train_fit(model_4,train_path,train_doc,val_path, val_doc,batch_size,\n",
        "                      frame_count,img_y,img_z,num_train_sequences,num_val_sequences,num_epochs)"
      ]
    },
    {
      "cell_type": "code",
      "execution_count": 35,
      "metadata": {
        "id": "5V2da6VVLqgm",
        "colab": {
          "base_uri": "https://localhost:8080/",
          "height": 699
        },
        "outputId": "e6a50f89-8a6a-4e47-cce6-36bba0ddda34"
      },
      "outputs": [
        {
          "output_type": "display_data",
          "data": {
            "text/plain": [
              "<Figure size 800x800 with 2 Axes>"
            ],
            "image/png": "[encoded data removed]"
          },
          "metadata": {}
        }
      ],
      "source": [
        "plot_model(history4,num_epochs)"
      ]
    },
    {
      "cell_type": "markdown",
      "metadata": {
        "id": "Uado4BNN8d_B"
      },
      "source": [
        "Observation:Seen improvement but sill the accuracy can improve with good fit. Next trying ConvLSTM to see if we get better results"
      ]
    },
    {
      "cell_type": "markdown",
      "metadata": {
        "id": "flXNmiQwaAnj"
      },
      "source": [
        "### Conv2D RNN + LSTM Model_5\n",
        "\n",
        "1.   List item\n"
      ]
    },
    {
      "cell_type": "code",
      "execution_count": 36,
      "metadata": {
        "id": "imKvE8NzaAnj"
      },
      "outputs": [],
      "source": [
        "\n",
        "def define_conv2d_model(Input_shape,drop_out=0.25,neurons=128):\n",
        "    model = Sequential()\n",
        "    #1st Layer\n",
        "    model.add(TimeDistributed(Conv2D(16, (3, 3) , padding='same', activation='relu'),\n",
        "                              input_shape=Input_shape))\n",
        "    model.add(TimeDistributed(BatchNormalization()))\n",
        "    model.add(TimeDistributed(MaxPooling2D((2, 2))))\n",
        "\n",
        "    #2nd Layer\n",
        "    model.add(TimeDistributed(Conv2D(32, (3, 3) , padding='same', activation='relu')))\n",
        "    model.add(TimeDistributed(BatchNormalization()))\n",
        "    model.add(TimeDistributed(MaxPooling2D((2, 2))))\n",
        "\n",
        "    #3rd Layer\n",
        "    model.add(TimeDistributed(Conv2D(64, (3, 3) , padding='same', activation='relu')))\n",
        "    model.add(TimeDistributed(BatchNormalization()))\n",
        "    model.add(TimeDistributed(MaxPooling2D((2, 2))))\n",
        "\n",
        "    #4th Layer\n",
        "    model.add(TimeDistributed(Conv2D(128, (3, 3) , padding='same', activation='relu')))\n",
        "    model.add(TimeDistributed(BatchNormalization()))\n",
        "    model.add(TimeDistributed(MaxPooling2D((2, 2))))\n",
        "\n",
        "    #5th Layer\n",
        "    model.add(TimeDistributed(Conv2D(256, (3, 3) , padding='same', activation='relu')))\n",
        "    model.add(TimeDistributed(BatchNormalization()))\n",
        "    model.add(TimeDistributed(MaxPooling2D((2, 2))))\n",
        "\n",
        "    #Flatten layer\n",
        "    model.add(TimeDistributed(Flatten()))\n",
        "\n",
        "    #LSTM\n",
        "    model.add(LSTM(neurons))\n",
        "    model.add(Dropout(drop_out))\n",
        "\n",
        "    model.add(Dense(neurons, activation='relu'))\n",
        "    model.add(Dropout(drop_out))\n",
        "\n",
        "    model.add(Dense(5, activation='softmax'))\n",
        "\n",
        "    optimiser = optimizers.Adam()#write your optimizer\n",
        "    model.compile(optimizer=optimiser, loss='categorical_crossentropy', metrics=['categorical_accuracy'])\n",
        "\n",
        "    return model"
      ]
    },
    {
      "cell_type": "code",
      "execution_count": 37,
      "metadata": {
        "id": "9mn8gNycaAnj",
        "colab": {
          "base_uri": "https://localhost:8080/"
        },
        "outputId": "ab95095e-738a-41f7-d23c-e5d5b9c73604"
      },
      "outputs": [
        {
          "output_type": "stream",
          "name": "stdout",
          "text": [
            "Model: \"sequential_4\"\n",
            "_________________________________________________________________\n",
            " Layer (type)                Output Shape              Param #   \n",
            "=================================================================\n",
            " time_distributed (TimeDist  (None, 20, 120, 120, 16   448       \n",
            " ributed)                    )                                   \n",
            "                                                                 \n",
            " time_distributed_1 (TimeDi  (None, 20, 120, 120, 16   64        \n",
            " stributed)                  )                                   \n",
            "                                                                 \n",
            " time_distributed_2 (TimeDi  (None, 20, 60, 60, 16)    0         \n",
            " stributed)                                                      \n",
            "                                                                 \n",
            " time_distributed_3 (TimeDi  (None, 20, 60, 60, 32)    4640      \n",
            " stributed)                                                      \n",
            "                                                                 \n",
            " time_distributed_4 (TimeDi  (None, 20, 60, 60, 32)    128       \n",
            " stributed)                                                      \n",
            "                                                                 \n",
            " time_distributed_5 (TimeDi  (None, 20, 30, 30, 32)    0         \n",
            " stributed)                                                      \n",
            "                                                                 \n",
            " time_distributed_6 (TimeDi  (None, 20, 30, 30, 64)    18496     \n",
            " stributed)                                                      \n",
            "                                                                 \n",
            " time_distributed_7 (TimeDi  (None, 20, 30, 30, 64)    256       \n",
            " stributed)                                                      \n",
            "                                                                 \n",
            " time_distributed_8 (TimeDi  (None, 20, 15, 15, 64)    0         \n",
            " stributed)                                                      \n",
            "                                                                 \n",
            " time_distributed_9 (TimeDi  (None, 20, 15, 15, 128)   73856     \n",
            " stributed)                                                      \n",
            "                                                                 \n",
            " time_distributed_10 (TimeD  (None, 20, 15, 15, 128)   512       \n",
            " istributed)                                                     \n",
            "                                                                 \n",
            " time_distributed_11 (TimeD  (None, 20, 7, 7, 128)     0         \n",
            " istributed)                                                     \n",
            "                                                                 \n",
            " time_distributed_12 (TimeD  (None, 20, 7, 7, 256)     295168    \n",
            " istributed)                                                     \n",
            "                                                                 \n",
            " time_distributed_13 (TimeD  (None, 20, 7, 7, 256)     1024      \n",
            " istributed)                                                     \n",
            "                                                                 \n",
            " time_distributed_14 (TimeD  (None, 20, 3, 3, 256)     0         \n",
            " istributed)                                                     \n",
            "                                                                 \n",
            " time_distributed_15 (TimeD  (None, 20, 2304)          0         \n",
            " istributed)                                                     \n",
            "                                                                 \n",
            " lstm (LSTM)                 (None, 128)               1245696   \n",
            "                                                                 \n",
            " dropout_4 (Dropout)         (None, 128)               0         \n",
            "                                                                 \n",
            " dense_8 (Dense)             (None, 128)               16512     \n",
            "                                                                 \n",
            " dropout_5 (Dropout)         (None, 128)               0         \n",
            "                                                                 \n",
            " dense_9 (Dense)             (None, 5)                 645       \n",
            "                                                                 \n",
            "=================================================================\n",
            "Total params: 1657445 (6.32 MB)\n",
            "Trainable params: 1656453 (6.32 MB)\n",
            "Non-trainable params: 992 (3.88 KB)\n",
            "_________________________________________________________________\n",
            "None\n"
          ]
        }
      ],
      "source": [
        "frame_count=20\n",
        "batch_size= 20\n",
        "img_y =120\n",
        "img_z =120\n",
        "num_epochs = 15\n",
        "Input_shape = (frame_count, img_y, img_z, 3)\n",
        "convd2_model_1 = define_conv2d_model(Input_shape)\n",
        "print (convd2_model_1.summary())"
      ]
    },
    {
      "cell_type": "code",
      "execution_count": 38,
      "metadata": {
        "id": "Ct3e4Mk4aAnj",
        "colab": {
          "base_uri": "https://localhost:8080/"
        },
        "outputId": "67799ea1-4819-428f-aa55-e716359ac462"
      },
      "outputs": [
        {
          "output_type": "stream",
          "name": "stdout",
          "text": [
            "Source path =  /content/Project_data/train ; batch size = 20\n",
            "Epoch 1/15\n",
            "34/34 [==============================] - ETA: 0s - loss: 1.3837 - categorical_accuracy: 0.4148Source path =  /content/Project_data/val ; batch size = 20\n",
            "\n",
            "Epoch 1: val_loss improved from inf to 1.97187, saving model to /content/gdrive/MyDrive/Colab Notebooks/Project_data_2024-05-0618_45_35.453847/model-00001-1.38372-0.41478-1.97187-0.21000.keras\n",
            "34/34 [==============================] - 65s 2s/step - loss: 1.3837 - categorical_accuracy: 0.4148 - val_loss: 1.9719 - val_categorical_accuracy: 0.2100 - lr: 0.0010\n",
            "Epoch 2/15\n",
            "34/34 [==============================] - ETA: 0s - loss: 1.0750 - categorical_accuracy: 0.5430\n",
            "Epoch 2: val_loss did not improve from 1.97187\n",
            "34/34 [==============================] - 48s 1s/step - loss: 1.0750 - categorical_accuracy: 0.5430 - val_loss: 2.0612 - val_categorical_accuracy: 0.1900 - lr: 0.0010\n",
            "Epoch 3/15\n",
            "34/34 [==============================] - ETA: 0s - loss: 1.0548 - categorical_accuracy: 0.5551\n",
            "Epoch 3: val_loss did not improve from 1.97187\n",
            "34/34 [==============================] - 47s 1s/step - loss: 1.0548 - categorical_accuracy: 0.5551 - val_loss: 2.4560 - val_categorical_accuracy: 0.1600 - lr: 0.0010\n",
            "Epoch 4/15\n",
            "34/34 [==============================] - ETA: 0s - loss: 0.9391 - categorical_accuracy: 0.6244\n",
            "Epoch 4: val_loss did not improve from 1.97187\n",
            "\n",
            "Epoch 4: ReduceLROnPlateau reducing learning rate to 0.00020000000949949026.\n",
            "34/34 [==============================] - 48s 1s/step - loss: 0.9391 - categorical_accuracy: 0.6244 - val_loss: 2.5408 - val_categorical_accuracy: 0.2000 - lr: 0.0010\n",
            "Epoch 5/15\n",
            "34/34 [==============================] - ETA: 0s - loss: 0.8189 - categorical_accuracy: 0.6802\n",
            "Epoch 5: val_loss did not improve from 1.97187\n",
            "34/34 [==============================] - 47s 1s/step - loss: 0.8189 - categorical_accuracy: 0.6802 - val_loss: 2.7487 - val_categorical_accuracy: 0.1900 - lr: 2.0000e-04\n",
            "Epoch 6/15\n",
            "34/34 [==============================] - ETA: 0s - loss: 0.6945 - categorical_accuracy: 0.7451\n",
            "Epoch 6: val_loss did not improve from 1.97187\n",
            "34/34 [==============================] - 47s 1s/step - loss: 0.6945 - categorical_accuracy: 0.7451 - val_loss: 2.2949 - val_categorical_accuracy: 0.2100 - lr: 2.0000e-04\n",
            "Epoch 7/15\n",
            "34/34 [==============================] - ETA: 0s - loss: 0.5955 - categorical_accuracy: 0.7798\n",
            "Epoch 7: val_loss did not improve from 1.97187\n",
            "\n",
            "Epoch 7: ReduceLROnPlateau reducing learning rate to 4.0000001899898055e-05.\n",
            "34/34 [==============================] - 48s 1s/step - loss: 0.5955 - categorical_accuracy: 0.7798 - val_loss: 2.6022 - val_categorical_accuracy: 0.2100 - lr: 2.0000e-04\n",
            "Epoch 8/15\n",
            "34/34 [==============================] - ETA: 0s - loss: 0.5521 - categorical_accuracy: 0.7843\n",
            "Epoch 8: val_loss did not improve from 1.97187\n",
            "34/34 [==============================] - 48s 1s/step - loss: 0.5521 - categorical_accuracy: 0.7843 - val_loss: 2.6240 - val_categorical_accuracy: 0.2200 - lr: 4.0000e-05\n",
            "Epoch 9/15\n",
            "34/34 [==============================] - ETA: 0s - loss: 0.5288 - categorical_accuracy: 0.8024\n",
            "Epoch 9: val_loss did not improve from 1.97187\n",
            "34/34 [==============================] - 47s 1s/step - loss: 0.5288 - categorical_accuracy: 0.8024 - val_loss: 2.0285 - val_categorical_accuracy: 0.3200 - lr: 4.0000e-05\n",
            "Epoch 10/15\n",
            "34/34 [==============================] - ETA: 0s - loss: 0.4852 - categorical_accuracy: 0.8265\n",
            "Epoch 10: val_loss did not improve from 1.97187\n",
            "\n",
            "Epoch 10: ReduceLROnPlateau reducing learning rate to 8.000000525498762e-06.\n",
            "34/34 [==============================] - 48s 1s/step - loss: 0.4852 - categorical_accuracy: 0.8265 - val_loss: 2.2853 - val_categorical_accuracy: 0.3100 - lr: 4.0000e-05\n",
            "Epoch 11/15\n",
            "34/34 [==============================] - ETA: 0s - loss: 0.4895 - categorical_accuracy: 0.8416\n",
            "Epoch 11: val_loss did not improve from 1.97187\n",
            "34/34 [==============================] - 46s 1s/step - loss: 0.4895 - categorical_accuracy: 0.8416 - val_loss: 2.2887 - val_categorical_accuracy: 0.3300 - lr: 8.0000e-06\n",
            "Epoch 12/15\n",
            "34/34 [==============================] - ETA: 0s - loss: 0.4447 - categorical_accuracy: 0.8567\n",
            "Epoch 12: val_loss did not improve from 1.97187\n",
            "34/34 [==============================] - 48s 1s/step - loss: 0.4447 - categorical_accuracy: 0.8567 - val_loss: 2.1994 - val_categorical_accuracy: 0.3100 - lr: 8.0000e-06\n",
            "Epoch 13/15\n",
            "34/34 [==============================] - ETA: 0s - loss: 0.4802 - categorical_accuracy: 0.8386\n",
            "Epoch 13: val_loss did not improve from 1.97187\n",
            "\n",
            "Epoch 13: ReduceLROnPlateau reducing learning rate to 1.6000001778593287e-06.\n",
            "34/34 [==============================] - 47s 1s/step - loss: 0.4802 - categorical_accuracy: 0.8386 - val_loss: 2.2604 - val_categorical_accuracy: 0.3300 - lr: 8.0000e-06\n",
            "Epoch 14/15\n",
            "34/34 [==============================] - ETA: 0s - loss: 0.4868 - categorical_accuracy: 0.8281\n",
            "Epoch 14: val_loss improved from 1.97187 to 1.80274, saving model to /content/gdrive/MyDrive/Colab Notebooks/Project_data_2024-05-0618_45_35.453847/model-00014-0.48677-0.82805-1.80274-0.40000.keras\n",
            "34/34 [==============================] - 48s 1s/step - loss: 0.4868 - categorical_accuracy: 0.8281 - val_loss: 1.8027 - val_categorical_accuracy: 0.4000 - lr: 1.6000e-06\n",
            "Epoch 15/15\n",
            "34/34 [==============================] - ETA: 0s - loss: 0.4582 - categorical_accuracy: 0.8431\n",
            "Epoch 15: val_loss improved from 1.80274 to 1.65759, saving model to /content/gdrive/MyDrive/Colab Notebooks/Project_data_2024-05-0618_45_35.453847/model-00015-0.45816-0.84314-1.65759-0.39000.keras\n",
            "34/34 [==============================] - 48s 1s/step - loss: 0.4582 - categorical_accuracy: 0.8431 - val_loss: 1.6576 - val_categorical_accuracy: 0.3900 - lr: 1.6000e-06\n"
          ]
        }
      ],
      "source": [
        "history_conv2d_1 = model_train_fit(convd2_model_1,train_path,train_doc,val_path, val_doc,batch_size,\n",
        "                      frame_count,img_y,img_z,num_train_sequences,num_val_sequences,num_epochs)"
      ]
    },
    {
      "cell_type": "code",
      "execution_count": 39,
      "metadata": {
        "id": "YLxwV5tcZDlG",
        "colab": {
          "base_uri": "https://localhost:8080/",
          "height": 699
        },
        "outputId": "83ca693c-8c41-4afa-d2fb-3d14b350ac2f"
      },
      "outputs": [
        {
          "output_type": "display_data",
          "data": {
            "text/plain": [
              "<Figure size 800x800 with 2 Axes>"
            ],
            "image/png": "[encoded data removed]"
          },
          "metadata": {}
        }
      ],
      "source": [
        "plot_model(history_conv2d_1,15)"
      ]
    },
    {
      "cell_type": "markdown",
      "metadata": {
        "id": "bcpqJ1gJ8d_C"
      },
      "source": [
        "Observation: Model is overfitting, next trying increase with the increase in image resolution and number of epochs"
      ]
    },
    {
      "cell_type": "markdown",
      "metadata": {
        "id": "-beh5CowaAnj"
      },
      "source": [
        "### Conv2D RNN + LSTM Model_6\n",
        "With more number of epochs - 25"
      ]
    },
    {
      "cell_type": "code",
      "execution_count": 40,
      "metadata": {
        "id": "A6u5WRH1aAnj",
        "colab": {
          "base_uri": "https://localhost:8080/"
        },
        "outputId": "e2beca08-6aa5-49ae-bbca-0c93a4915ccd"
      },
      "outputs": [
        {
          "output_type": "stream",
          "name": "stdout",
          "text": [
            "Model: \"sequential_5\"\n",
            "_________________________________________________________________\n",
            " Layer (type)                Output Shape              Param #   \n",
            "=================================================================\n",
            " time_distributed_16 (TimeD  (None, 20, 120, 120, 16   448       \n",
            " istributed)                 )                                   \n",
            "                                                                 \n",
            " time_distributed_17 (TimeD  (None, 20, 120, 120, 16   64        \n",
            " istributed)                 )                                   \n",
            "                                                                 \n",
            " time_distributed_18 (TimeD  (None, 20, 60, 60, 16)    0         \n",
            " istributed)                                                     \n",
            "                                                                 \n",
            " time_distributed_19 (TimeD  (None, 20, 60, 60, 32)    4640      \n",
            " istributed)                                                     \n",
            "                                                                 \n",
            " time_distributed_20 (TimeD  (None, 20, 60, 60, 32)    128       \n",
            " istributed)                                                     \n",
            "                                                                 \n",
            " time_distributed_21 (TimeD  (None, 20, 30, 30, 32)    0         \n",
            " istributed)                                                     \n",
            "                                                                 \n",
            " time_distributed_22 (TimeD  (None, 20, 30, 30, 64)    18496     \n",
            " istributed)                                                     \n",
            "                                                                 \n",
            " time_distributed_23 (TimeD  (None, 20, 30, 30, 64)    256       \n",
            " istributed)                                                     \n",
            "                                                                 \n",
            " time_distributed_24 (TimeD  (None, 20, 15, 15, 64)    0         \n",
            " istributed)                                                     \n",
            "                                                                 \n",
            " time_distributed_25 (TimeD  (None, 20, 15, 15, 128)   73856     \n",
            " istributed)                                                     \n",
            "                                                                 \n",
            " time_distributed_26 (TimeD  (None, 20, 15, 15, 128)   512       \n",
            " istributed)                                                     \n",
            "                                                                 \n",
            " time_distributed_27 (TimeD  (None, 20, 7, 7, 128)     0         \n",
            " istributed)                                                     \n",
            "                                                                 \n",
            " time_distributed_28 (TimeD  (None, 20, 7, 7, 256)     295168    \n",
            " istributed)                                                     \n",
            "                                                                 \n",
            " time_distributed_29 (TimeD  (None, 20, 7, 7, 256)     1024      \n",
            " istributed)                                                     \n",
            "                                                                 \n",
            " time_distributed_30 (TimeD  (None, 20, 3, 3, 256)     0         \n",
            " istributed)                                                     \n",
            "                                                                 \n",
            " time_distributed_31 (TimeD  (None, 20, 2304)          0         \n",
            " istributed)                                                     \n",
            "                                                                 \n",
            " lstm_1 (LSTM)               (None, 128)               1245696   \n",
            "                                                                 \n",
            " dropout_6 (Dropout)         (None, 128)               0         \n",
            "                                                                 \n",
            " dense_10 (Dense)            (None, 128)               16512     \n",
            "                                                                 \n",
            " dropout_7 (Dropout)         (None, 128)               0         \n",
            "                                                                 \n",
            " dense_11 (Dense)            (None, 5)                 645       \n",
            "                                                                 \n",
            "=================================================================\n",
            "Total params: 1657445 (6.32 MB)\n",
            "Trainable params: 1656453 (6.32 MB)\n",
            "Non-trainable params: 992 (3.88 KB)\n",
            "_________________________________________________________________\n",
            "None\n"
          ]
        }
      ],
      "source": [
        "#Finding optimal frame_count and hyper parameters\n",
        "frame_count=20\n",
        "batch_size=20\n",
        "img_y =120\n",
        "img_z =120\n",
        "num_epochs = 25\n",
        "Input_shape = (frame_count, img_y, img_z, 3)\n",
        "convd2_model_2 = define_conv2d_model(Input_shape)\n",
        "print (convd2_model_2.summary())"
      ]
    },
    {
      "cell_type": "code",
      "execution_count": 41,
      "metadata": {
        "id": "KZ5l8JaXaAnj",
        "colab": {
          "base_uri": "https://localhost:8080/"
        },
        "outputId": "c3c453b0-217e-4268-a376-6facfb3c5715"
      },
      "outputs": [
        {
          "output_type": "stream",
          "name": "stdout",
          "text": [
            "Source path =  /content/Project_data/train ; batch size = 20\n",
            "Epoch 1/25\n",
            "33/34 [============================>.] - ETA: 1s - loss: 1.4151 - categorical_accuracy: 0.3758Source path =  /content/Project_data/val ; batch size = 20\n",
            "\n",
            "Epoch 1: val_loss improved from inf to 1.80462, saving model to /content/gdrive/MyDrive/Colab Notebooks/Project_data_2024-05-0618_45_35.453847/model-00001-1.41562-0.37406-1.80462-0.16000.keras\n",
            "34/34 [==============================] - 57s 2s/step - loss: 1.4156 - categorical_accuracy: 0.3741 - val_loss: 1.8046 - val_categorical_accuracy: 0.1600 - lr: 0.0010\n",
            "Epoch 2/25\n",
            "33/34 [============================>.] - ETA: 1s - loss: 1.2332 - categorical_accuracy: 0.5091\n",
            "Epoch 2: val_loss did not improve from 1.80462\n",
            "34/34 [==============================] - 49s 1s/step - loss: 1.2328 - categorical_accuracy: 0.5083 - val_loss: 2.1069 - val_categorical_accuracy: 0.2000 - lr: 0.0010\n",
            "Epoch 3/25\n",
            "34/34 [==============================] - ETA: 0s - loss: 1.1144 - categorical_accuracy: 0.5249\n",
            "Epoch 3: val_loss did not improve from 1.80462\n",
            "34/34 [==============================] - 48s 1s/step - loss: 1.1144 - categorical_accuracy: 0.5249 - val_loss: 2.7182 - val_categorical_accuracy: 0.2200 - lr: 0.0010\n",
            "Epoch 4/25\n",
            "33/34 [============================>.] - ETA: 1s - loss: 1.0605 - categorical_accuracy: 0.5470\n",
            "Epoch 4: val_loss did not improve from 1.80462\n",
            "\n",
            "Epoch 4: ReduceLROnPlateau reducing learning rate to 0.00020000000949949026.\n",
            "34/34 [==============================] - 48s 1s/step - loss: 1.0650 - categorical_accuracy: 0.5445 - val_loss: 2.8024 - val_categorical_accuracy: 0.2100 - lr: 0.0010\n",
            "Epoch 5/25\n",
            "33/34 [============================>.] - ETA: 1s - loss: 0.9614 - categorical_accuracy: 0.6091\n",
            "Epoch 5: val_loss did not improve from 1.80462\n",
            "34/34 [==============================] - 47s 1s/step - loss: 0.9621 - categorical_accuracy: 0.6094 - val_loss: 2.6045 - val_categorical_accuracy: 0.2100 - lr: 2.0000e-04\n",
            "Epoch 6/25\n",
            "34/34 [==============================] - ETA: 0s - loss: 0.8110 - categorical_accuracy: 0.6938\n",
            "Epoch 6: val_loss did not improve from 1.80462\n",
            "34/34 [==============================] - 48s 1s/step - loss: 0.8110 - categorical_accuracy: 0.6938 - val_loss: 2.5162 - val_categorical_accuracy: 0.2100 - lr: 2.0000e-04\n",
            "Epoch 7/25\n",
            "34/34 [==============================] - ETA: 0s - loss: 0.7236 - categorical_accuracy: 0.7496\n",
            "Epoch 7: val_loss did not improve from 1.80462\n",
            "\n",
            "Epoch 7: ReduceLROnPlateau reducing learning rate to 4.0000001899898055e-05.\n",
            "34/34 [==============================] - 48s 1s/step - loss: 0.7236 - categorical_accuracy: 0.7496 - val_loss: 2.3446 - val_categorical_accuracy: 0.2500 - lr: 2.0000e-04\n",
            "Epoch 8/25\n",
            "34/34 [==============================] - ETA: 0s - loss: 0.6880 - categorical_accuracy: 0.7692\n",
            "Epoch 8: val_loss did not improve from 1.80462\n",
            "34/34 [==============================] - 48s 1s/step - loss: 0.6880 - categorical_accuracy: 0.7692 - val_loss: 2.3334 - val_categorical_accuracy: 0.2800 - lr: 4.0000e-05\n",
            "Epoch 9/25\n",
            "33/34 [============================>.] - ETA: 1s - loss: 0.6352 - categorical_accuracy: 0.7697\n",
            "Epoch 9: val_loss did not improve from 1.80462\n",
            "34/34 [==============================] - 48s 1s/step - loss: 0.6391 - categorical_accuracy: 0.7662 - val_loss: 2.2878 - val_categorical_accuracy: 0.2900 - lr: 4.0000e-05\n",
            "Epoch 10/25\n",
            "34/34 [==============================] - ETA: 0s - loss: 0.6737 - categorical_accuracy: 0.7526\n",
            "Epoch 10: val_loss did not improve from 1.80462\n",
            "\n",
            "Epoch 10: ReduceLROnPlateau reducing learning rate to 8.000000525498762e-06.\n",
            "34/34 [==============================] - 49s 1s/step - loss: 0.6737 - categorical_accuracy: 0.7526 - val_loss: 2.4551 - val_categorical_accuracy: 0.2900 - lr: 4.0000e-05\n",
            "Epoch 11/25\n",
            "33/34 [============================>.] - ETA: 1s - loss: 0.6090 - categorical_accuracy: 0.7894\n",
            "Epoch 11: val_loss did not improve from 1.80462\n",
            "34/34 [==============================] - 49s 1s/step - loss: 0.6104 - categorical_accuracy: 0.7888 - val_loss: 2.1666 - val_categorical_accuracy: 0.3100 - lr: 8.0000e-06\n",
            "Epoch 12/25\n",
            "34/34 [==============================] - ETA: 0s - loss: 0.6262 - categorical_accuracy: 0.7798\n",
            "Epoch 12: val_loss did not improve from 1.80462\n",
            "34/34 [==============================] - 48s 1s/step - loss: 0.6262 - categorical_accuracy: 0.7798 - val_loss: 1.9148 - val_categorical_accuracy: 0.3400 - lr: 8.0000e-06\n",
            "Epoch 13/25\n",
            "33/34 [============================>.] - ETA: 1s - loss: 0.6248 - categorical_accuracy: 0.7894\n",
            "Epoch 13: val_loss did not improve from 1.80462\n",
            "\n",
            "Epoch 13: ReduceLROnPlateau reducing learning rate to 1.6000001778593287e-06.\n",
            "34/34 [==============================] - 49s 1s/step - loss: 0.6256 - categorical_accuracy: 0.7888 - val_loss: 2.0268 - val_categorical_accuracy: 0.3300 - lr: 8.0000e-06\n",
            "Epoch 14/25\n",
            "34/34 [==============================] - ETA: 0s - loss: 0.6217 - categorical_accuracy: 0.7587\n",
            "Epoch 14: val_loss improved from 1.80462 to 1.69829, saving model to /content/gdrive/MyDrive/Colab Notebooks/Project_data_2024-05-0618_45_35.453847/model-00014-0.62173-0.75867-1.69829-0.33000.keras\n",
            "34/34 [==============================] - 49s 1s/step - loss: 0.6217 - categorical_accuracy: 0.7587 - val_loss: 1.6983 - val_categorical_accuracy: 0.3300 - lr: 1.6000e-06\n",
            "Epoch 15/25\n",
            "34/34 [==============================] - ETA: 0s - loss: 0.6275 - categorical_accuracy: 0.7783\n",
            "Epoch 15: val_loss improved from 1.69829 to 1.32937, saving model to /content/gdrive/MyDrive/Colab Notebooks/Project_data_2024-05-0618_45_35.453847/model-00015-0.62748-0.77828-1.32937-0.45000.keras\n",
            "34/34 [==============================] - 49s 1s/step - loss: 0.6275 - categorical_accuracy: 0.7783 - val_loss: 1.3294 - val_categorical_accuracy: 0.4500 - lr: 1.6000e-06\n",
            "Epoch 16/25\n",
            "33/34 [============================>.] - ETA: 1s - loss: 0.6168 - categorical_accuracy: 0.7833\n",
            "Epoch 16: val_loss improved from 1.32937 to 1.21710, saving model to /content/gdrive/MyDrive/Colab Notebooks/Project_data_2024-05-0618_45_35.453847/model-00016-0.61601-0.78431-1.21710-0.50000.keras\n",
            "34/34 [==============================] - 49s 1s/step - loss: 0.6160 - categorical_accuracy: 0.7843 - val_loss: 1.2171 - val_categorical_accuracy: 0.5000 - lr: 1.6000e-06\n",
            "Epoch 17/25\n",
            "33/34 [============================>.] - ETA: 1s - loss: 0.6120 - categorical_accuracy: 0.7773\n",
            "Epoch 17: val_loss improved from 1.21710 to 1.03482, saving model to /content/gdrive/MyDrive/Colab Notebooks/Project_data_2024-05-0618_45_35.453847/model-00017-0.61540-0.77526-1.03482-0.57000.keras\n",
            "34/34 [==============================] - 49s 1s/step - loss: 0.6154 - categorical_accuracy: 0.7753 - val_loss: 1.0348 - val_categorical_accuracy: 0.5700 - lr: 1.6000e-06\n",
            "Epoch 18/25\n",
            "34/34 [==============================] - ETA: 0s - loss: 0.6397 - categorical_accuracy: 0.7873\n",
            "Epoch 18: val_loss improved from 1.03482 to 0.99615, saving model to /content/gdrive/MyDrive/Colab Notebooks/Project_data_2024-05-0618_45_35.453847/model-00018-0.63972-0.78733-0.99615-0.62000.keras\n",
            "34/34 [==============================] - 49s 1s/step - loss: 0.6397 - categorical_accuracy: 0.7873 - val_loss: 0.9961 - val_categorical_accuracy: 0.6200 - lr: 1.6000e-06\n",
            "Epoch 19/25\n",
            "33/34 [============================>.] - ETA: 1s - loss: 0.6314 - categorical_accuracy: 0.7758\n",
            "Epoch 19: val_loss improved from 0.99615 to 0.92980, saving model to /content/gdrive/MyDrive/Colab Notebooks/Project_data_2024-05-0618_45_35.453847/model-00019-0.63131-0.77526-0.92980-0.70000.keras\n",
            "34/34 [==============================] - 50s 2s/step - loss: 0.6313 - categorical_accuracy: 0.7753 - val_loss: 0.9298 - val_categorical_accuracy: 0.7000 - lr: 1.6000e-06\n",
            "Epoch 20/25\n",
            "34/34 [==============================] - ETA: 0s - loss: 0.6227 - categorical_accuracy: 0.8024\n",
            "Epoch 20: val_loss improved from 0.92980 to 0.86367, saving model to /content/gdrive/MyDrive/Colab Notebooks/Project_data_2024-05-0618_45_35.453847/model-00020-0.62269-0.80241-0.86367-0.72000.keras\n",
            "34/34 [==============================] - 50s 2s/step - loss: 0.6227 - categorical_accuracy: 0.8024 - val_loss: 0.8637 - val_categorical_accuracy: 0.7200 - lr: 1.6000e-06\n",
            "Epoch 21/25\n",
            "33/34 [============================>.] - ETA: 1s - loss: 0.6175 - categorical_accuracy: 0.7818\n",
            "Epoch 21: val_loss improved from 0.86367 to 0.83248, saving model to /content/gdrive/MyDrive/Colab Notebooks/Project_data_2024-05-0618_45_35.453847/model-00021-0.61880-0.78130-0.83248-0.71000.keras\n",
            "34/34 [==============================] - 49s 1s/step - loss: 0.6188 - categorical_accuracy: 0.7813 - val_loss: 0.8325 - val_categorical_accuracy: 0.7100 - lr: 1.6000e-06\n",
            "Epoch 22/25\n",
            "33/34 [============================>.] - ETA: 1s - loss: 0.6122 - categorical_accuracy: 0.7848\n",
            "Epoch 22: val_loss did not improve from 0.83248\n",
            "34/34 [==============================] - 49s 1s/step - loss: 0.6149 - categorical_accuracy: 0.7843 - val_loss: 0.8789 - val_categorical_accuracy: 0.7000 - lr: 1.6000e-06\n",
            "Epoch 23/25\n",
            "34/34 [==============================] - ETA: 0s - loss: 0.6048 - categorical_accuracy: 0.8024\n",
            "Epoch 23: val_loss improved from 0.83248 to 0.77755, saving model to /content/gdrive/MyDrive/Colab Notebooks/Project_data_2024-05-0618_45_35.453847/model-00023-0.60485-0.80241-0.77755-0.72000.keras\n",
            "34/34 [==============================] - 49s 1s/step - loss: 0.6048 - categorical_accuracy: 0.8024 - val_loss: 0.7776 - val_categorical_accuracy: 0.7200 - lr: 1.6000e-06\n",
            "Epoch 24/25\n",
            "34/34 [==============================] - ETA: 0s - loss: 0.5883 - categorical_accuracy: 0.7903\n",
            "Epoch 24: val_loss did not improve from 0.77755\n",
            "34/34 [==============================] - 47s 1s/step - loss: 0.5883 - categorical_accuracy: 0.7903 - val_loss: 0.8417 - val_categorical_accuracy: 0.7200 - lr: 1.6000e-06\n",
            "Epoch 25/25\n",
            "33/34 [============================>.] - ETA: 1s - loss: 0.6129 - categorical_accuracy: 0.7788\n",
            "Epoch 25: val_loss improved from 0.77755 to 0.74539, saving model to /content/gdrive/MyDrive/Colab Notebooks/Project_data_2024-05-0618_45_35.453847/model-00025-0.61440-0.77828-0.74539-0.77000.keras\n",
            "34/34 [==============================] - 50s 2s/step - loss: 0.6144 - categorical_accuracy: 0.7783 - val_loss: 0.7454 - val_categorical_accuracy: 0.7700 - lr: 1.6000e-06\n"
          ]
        }
      ],
      "source": [
        "history_conv2d_2 = model_train_fit(convd2_model_2,train_path,train_doc,val_path, val_doc,batch_size,\n",
        "                      frame_count,img_y,img_z,num_train_sequences,num_val_sequences,num_epochs)"
      ]
    },
    {
      "cell_type": "code",
      "execution_count": 42,
      "metadata": {
        "id": "-lGndBdwp-LR",
        "colab": {
          "base_uri": "https://localhost:8080/",
          "height": 699
        },
        "outputId": "446234b3-fa6a-4066-f664-3399bc45ffe0"
      },
      "outputs": [
        {
          "output_type": "display_data",
          "data": {
            "text/plain": [
              "<Figure size 800x800 with 2 Axes>"
            ],
            "image/png": "[encoded data removed]"
          },
          "metadata": {}
        }
      ],
      "source": [
        "plot_model(history_conv2d_2,25)"
      ]
    },
    {
      "cell_type": "markdown",
      "metadata": {
        "id": "ZP74jtBT8d_D"
      },
      "source": [
        "Observation: Model validation accuracy improved as compare to previous model,But next trying increase GRU to furture improve the validation accuracy."
      ]
    },
    {
      "cell_type": "markdown",
      "metadata": {
        "id": "C60GvsGsaAnj"
      },
      "source": [
        "### Conv2D RNN + GRU Model_7"
      ]
    },
    {
      "cell_type": "code",
      "execution_count": 43,
      "metadata": {
        "id": "-hDbO5bQaAnk"
      },
      "outputs": [],
      "source": [
        "def define_conv2d_GRU_model(Input_shape, gru_cells=64, dense_neurons=64,drop_out=0.25):\n",
        "    model = Sequential()\n",
        "    #1st Layer\n",
        "    model.add(TimeDistributed(Conv2D(16, (3, 3) , padding='same', activation='relu'),\n",
        "                              input_shape=Input_shape))\n",
        "    model.add(TimeDistributed(BatchNormalization()))\n",
        "    model.add(TimeDistributed(MaxPooling2D((2, 2))))\n",
        "\n",
        "    #2nd Layer\n",
        "    model.add(TimeDistributed(Conv2D(32, (3, 3) , padding='same', activation='relu')))\n",
        "    model.add(TimeDistributed(BatchNormalization()))\n",
        "    model.add(TimeDistributed(MaxPooling2D((2, 2))))\n",
        "\n",
        "    #3rd Layer\n",
        "    model.add(TimeDistributed(Conv2D(64, (3, 3) , padding='same', activation='relu')))\n",
        "    model.add(TimeDistributed(BatchNormalization()))\n",
        "    model.add(TimeDistributed(MaxPooling2D((2, 2))))\n",
        "\n",
        "    #4th Layer\n",
        "    model.add(TimeDistributed(Conv2D(128, (3, 3) , padding='same', activation='relu')))\n",
        "    model.add(TimeDistributed(BatchNormalization()))\n",
        "    model.add(TimeDistributed(MaxPooling2D((2, 2))))\n",
        "\n",
        "    #5th Layer\n",
        "    model.add(TimeDistributed(Conv2D(256, (3, 3) , padding='same', activation='relu')))\n",
        "    model.add(TimeDistributed(BatchNormalization()))\n",
        "    model.add(TimeDistributed(MaxPooling2D((2, 2))))\n",
        "\n",
        "    model.add(TimeDistributed(Flatten()))\n",
        "\n",
        "    model.add(GRU(gru_cells))\n",
        "    model.add(Dropout(drop_out))\n",
        "\n",
        "    model.add(Dense(dense_neurons,activation='relu'))\n",
        "    model.add(Dropout(drop_out))\n",
        "\n",
        "    model.add(Dense(5, activation='softmax'))\n",
        "\n",
        "\n",
        "    optimiser = optimizers.Adam()#write your optimizer\n",
        "    model.compile(optimizer=optimiser, loss='categorical_crossentropy', metrics=['categorical_accuracy'])\n",
        "\n",
        "    return model"
      ]
    },
    {
      "cell_type": "code",
      "execution_count": 44,
      "metadata": {
        "id": "UmdlHB4SBg8E",
        "colab": {
          "base_uri": "https://localhost:8080/"
        },
        "outputId": "8ba9a517-b7ef-4011-f358-fe9fe1f13b3d"
      },
      "outputs": [
        {
          "output_type": "stream",
          "name": "stdout",
          "text": [
            "Model: \"sequential_6\"\n",
            "_________________________________________________________________\n",
            " Layer (type)                Output Shape              Param #   \n",
            "=================================================================\n",
            " time_distributed_32 (TimeD  (None, 20, 120, 120, 16   448       \n",
            " istributed)                 )                                   \n",
            "                                                                 \n",
            " time_distributed_33 (TimeD  (None, 20, 120, 120, 16   64        \n",
            " istributed)                 )                                   \n",
            "                                                                 \n",
            " time_distributed_34 (TimeD  (None, 20, 60, 60, 16)    0         \n",
            " istributed)                                                     \n",
            "                                                                 \n",
            " time_distributed_35 (TimeD  (None, 20, 60, 60, 32)    4640      \n",
            " istributed)                                                     \n",
            "                                                                 \n",
            " time_distributed_36 (TimeD  (None, 20, 60, 60, 32)    128       \n",
            " istributed)                                                     \n",
            "                                                                 \n",
            " time_distributed_37 (TimeD  (None, 20, 30, 30, 32)    0         \n",
            " istributed)                                                     \n",
            "                                                                 \n",
            " time_distributed_38 (TimeD  (None, 20, 30, 30, 64)    18496     \n",
            " istributed)                                                     \n",
            "                                                                 \n",
            " time_distributed_39 (TimeD  (None, 20, 30, 30, 64)    256       \n",
            " istributed)                                                     \n",
            "                                                                 \n",
            " time_distributed_40 (TimeD  (None, 20, 15, 15, 64)    0         \n",
            " istributed)                                                     \n",
            "                                                                 \n",
            " time_distributed_41 (TimeD  (None, 20, 15, 15, 128)   73856     \n",
            " istributed)                                                     \n",
            "                                                                 \n",
            " time_distributed_42 (TimeD  (None, 20, 15, 15, 128)   512       \n",
            " istributed)                                                     \n",
            "                                                                 \n",
            " time_distributed_43 (TimeD  (None, 20, 7, 7, 128)     0         \n",
            " istributed)                                                     \n",
            "                                                                 \n",
            " time_distributed_44 (TimeD  (None, 20, 7, 7, 256)     295168    \n",
            " istributed)                                                     \n",
            "                                                                 \n",
            " time_distributed_45 (TimeD  (None, 20, 7, 7, 256)     1024      \n",
            " istributed)                                                     \n",
            "                                                                 \n",
            " time_distributed_46 (TimeD  (None, 20, 3, 3, 256)     0         \n",
            " istributed)                                                     \n",
            "                                                                 \n",
            " time_distributed_47 (TimeD  (None, 20, 2304)          0         \n",
            " istributed)                                                     \n",
            "                                                                 \n",
            " gru (GRU)                   (None, 128)               934656    \n",
            "                                                                 \n",
            " dropout_8 (Dropout)         (None, 128)               0         \n",
            "                                                                 \n",
            " dense_12 (Dense)            (None, 128)               16512     \n",
            "                                                                 \n",
            " dropout_9 (Dropout)         (None, 128)               0         \n",
            "                                                                 \n",
            " dense_13 (Dense)            (None, 5)                 645       \n",
            "                                                                 \n",
            "=================================================================\n",
            "Total params: 1346405 (5.14 MB)\n",
            "Trainable params: 1345413 (5.13 MB)\n",
            "Non-trainable params: 992 (3.88 KB)\n",
            "_________________________________________________________________\n",
            "None\n"
          ]
        }
      ],
      "source": [
        "#Finding optimal frame_count and hyper parameters\n",
        "frame_count=20\n",
        "batch_size=20\n",
        "img_y =120\n",
        "img_z =120\n",
        "num_epochs = 25\n",
        "Input_shape = (frame_count, img_y, img_z, 3)\n",
        "convd2_model_GRU = define_conv2d_GRU_model(Input_shape, 128, 128,0.25)\n",
        "print (convd2_model_GRU.summary())"
      ]
    },
    {
      "cell_type": "code",
      "execution_count": 45,
      "metadata": {
        "id": "6wFE0UhraAnk",
        "colab": {
          "base_uri": "https://localhost:8080/"
        },
        "outputId": "9c131df0-95f8-4610-8560-14522b01c99b"
      },
      "outputs": [
        {
          "output_type": "stream",
          "name": "stdout",
          "text": [
            "Source path =  /content/Project_data/train ; batch size = 20\n",
            "Epoch 1/25\n",
            "33/34 [============================>.] - ETA: 1s - loss: 1.4131 - categorical_accuracy: 0.3939Source path =  /content/Project_data/val ; batch size = 20\n",
            "\n",
            "Epoch 1: val_loss improved from inf to 1.90272, saving model to /content/gdrive/MyDrive/Colab Notebooks/Project_data_2024-05-0618_45_35.453847/model-00001-1.41845-0.39216-1.90272-0.27000.keras\n",
            "34/34 [==============================] - 61s 2s/step - loss: 1.4185 - categorical_accuracy: 0.3922 - val_loss: 1.9027 - val_categorical_accuracy: 0.2700 - lr: 0.0010\n",
            "Epoch 2/25\n",
            "34/34 [==============================] - ETA: 0s - loss: 1.1505 - categorical_accuracy: 0.5400\n",
            "Epoch 2: val_loss improved from 1.90272 to 1.77752, saving model to /content/gdrive/MyDrive/Colab Notebooks/Project_data_2024-05-0618_45_35.453847/model-00002-1.15054-0.53997-1.77752-0.25000.keras\n",
            "34/34 [==============================] - 48s 1s/step - loss: 1.1505 - categorical_accuracy: 0.5400 - val_loss: 1.7775 - val_categorical_accuracy: 0.2500 - lr: 0.0010\n",
            "Epoch 3/25\n",
            "33/34 [============================>.] - ETA: 1s - loss: 0.9266 - categorical_accuracy: 0.6273\n",
            "Epoch 3: val_loss did not improve from 1.77752\n",
            "34/34 [==============================] - 50s 1s/step - loss: 0.9240 - categorical_accuracy: 0.6290 - val_loss: 2.7734 - val_categorical_accuracy: 0.2300 - lr: 0.0010\n",
            "Epoch 4/25\n",
            "34/34 [==============================] - ETA: 0s - loss: 0.7996 - categorical_accuracy: 0.6953\n",
            "Epoch 4: val_loss did not improve from 1.77752\n",
            "34/34 [==============================] - 48s 1s/step - loss: 0.7996 - categorical_accuracy: 0.6953 - val_loss: 3.4041 - val_categorical_accuracy: 0.1900 - lr: 0.0010\n",
            "Epoch 5/25\n",
            "33/34 [============================>.] - ETA: 1s - loss: 0.7398 - categorical_accuracy: 0.7076\n",
            "Epoch 5: val_loss did not improve from 1.77752\n",
            "\n",
            "Epoch 5: ReduceLROnPlateau reducing learning rate to 0.00020000000949949026.\n",
            "34/34 [==============================] - 49s 1s/step - loss: 0.7412 - categorical_accuracy: 0.7059 - val_loss: 2.9852 - val_categorical_accuracy: 0.2000 - lr: 0.0010\n",
            "Epoch 6/25\n",
            "33/34 [============================>.] - ETA: 1s - loss: 0.5734 - categorical_accuracy: 0.7833\n",
            "Epoch 6: val_loss did not improve from 1.77752\n",
            "34/34 [==============================] - 48s 1s/step - loss: 0.5715 - categorical_accuracy: 0.7843 - val_loss: 2.5582 - val_categorical_accuracy: 0.2300 - lr: 2.0000e-04\n",
            "Epoch 7/25\n",
            "34/34 [==============================] - ETA: 0s - loss: 0.4498 - categorical_accuracy: 0.8416\n",
            "Epoch 7: val_loss did not improve from 1.77752\n",
            "34/34 [==============================] - 48s 1s/step - loss: 0.4498 - categorical_accuracy: 0.8416 - val_loss: 3.0347 - val_categorical_accuracy: 0.2200 - lr: 2.0000e-04\n",
            "Epoch 8/25\n",
            "34/34 [==============================] - ETA: 0s - loss: 0.3834 - categorical_accuracy: 0.8733\n",
            "Epoch 8: val_loss did not improve from 1.77752\n",
            "\n",
            "Epoch 8: ReduceLROnPlateau reducing learning rate to 4.0000001899898055e-05.\n",
            "34/34 [==============================] - 49s 1s/step - loss: 0.3834 - categorical_accuracy: 0.8733 - val_loss: 2.4084 - val_categorical_accuracy: 0.2900 - lr: 2.0000e-04\n",
            "Epoch 9/25\n",
            "33/34 [============================>.] - ETA: 1s - loss: 0.3199 - categorical_accuracy: 0.8818\n",
            "Epoch 9: val_loss did not improve from 1.77752\n",
            "34/34 [==============================] - 49s 1s/step - loss: 0.3263 - categorical_accuracy: 0.8808 - val_loss: 2.3292 - val_categorical_accuracy: 0.3100 - lr: 4.0000e-05\n",
            "Epoch 10/25\n",
            "34/34 [==============================] - ETA: 0s - loss: 0.3156 - categorical_accuracy: 0.8989\n",
            "Epoch 10: val_loss did not improve from 1.77752\n",
            "34/34 [==============================] - 48s 1s/step - loss: 0.3156 - categorical_accuracy: 0.8989 - val_loss: 2.1066 - val_categorical_accuracy: 0.4100 - lr: 4.0000e-05\n",
            "Epoch 11/25\n",
            "34/34 [==============================] - ETA: 0s - loss: 0.3093 - categorical_accuracy: 0.9050\n",
            "Epoch 11: val_loss did not improve from 1.77752\n",
            "\n",
            "Epoch 11: ReduceLROnPlateau reducing learning rate to 8.000000525498762e-06.\n",
            "34/34 [==============================] - 46s 1s/step - loss: 0.3093 - categorical_accuracy: 0.9050 - val_loss: 1.9848 - val_categorical_accuracy: 0.4100 - lr: 4.0000e-05\n",
            "Epoch 12/25\n",
            "34/34 [==============================] - ETA: 0s - loss: 0.2587 - categorical_accuracy: 0.9110\n",
            "Epoch 12: val_loss improved from 1.77752 to 1.38449, saving model to /content/gdrive/MyDrive/Colab Notebooks/Project_data_2024-05-0618_45_35.453847/model-00012-0.25870-0.91101-1.38449-0.53000.keras\n",
            "34/34 [==============================] - 50s 2s/step - loss: 0.2587 - categorical_accuracy: 0.9110 - val_loss: 1.3845 - val_categorical_accuracy: 0.5300 - lr: 8.0000e-06\n",
            "Epoch 13/25\n",
            "34/34 [==============================] - ETA: 0s - loss: 0.2800 - categorical_accuracy: 0.9201\n",
            "Epoch 13: val_loss did not improve from 1.38449\n",
            "34/34 [==============================] - 49s 1s/step - loss: 0.2800 - categorical_accuracy: 0.9201 - val_loss: 1.4850 - val_categorical_accuracy: 0.4700 - lr: 8.0000e-06\n",
            "Epoch 14/25\n",
            "33/34 [============================>.] - ETA: 1s - loss: 0.2973 - categorical_accuracy: 0.9030\n",
            "Epoch 14: val_loss improved from 1.38449 to 1.20845, saving model to /content/gdrive/MyDrive/Colab Notebooks/Project_data_2024-05-0618_45_35.453847/model-00014-0.29656-0.90347-1.20845-0.55000.keras\n",
            "34/34 [==============================] - 50s 1s/step - loss: 0.2966 - categorical_accuracy: 0.9035 - val_loss: 1.2084 - val_categorical_accuracy: 0.5500 - lr: 8.0000e-06\n",
            "Epoch 15/25\n",
            "33/34 [============================>.] - ETA: 1s - loss: 0.2602 - categorical_accuracy: 0.9333\n",
            "Epoch 15: val_loss improved from 1.20845 to 0.88044, saving model to /content/gdrive/MyDrive/Colab Notebooks/Project_data_2024-05-0618_45_35.453847/model-00015-0.26083-0.93213-0.88044-0.65000.keras\n",
            "34/34 [==============================] - 49s 1s/step - loss: 0.2608 - categorical_accuracy: 0.9321 - val_loss: 0.8804 - val_categorical_accuracy: 0.6500 - lr: 8.0000e-06\n",
            "Epoch 16/25\n",
            "34/34 [==============================] - ETA: 0s - loss: 0.2665 - categorical_accuracy: 0.9186\n",
            "Epoch 16: val_loss improved from 0.88044 to 0.78849, saving model to /content/gdrive/MyDrive/Colab Notebooks/Project_data_2024-05-0618_45_35.453847/model-00016-0.26652-0.91855-0.78849-0.69000.keras\n",
            "34/34 [==============================] - 48s 1s/step - loss: 0.2665 - categorical_accuracy: 0.9186 - val_loss: 0.7885 - val_categorical_accuracy: 0.6900 - lr: 8.0000e-06\n",
            "Epoch 17/25\n",
            "33/34 [============================>.] - ETA: 1s - loss: 0.2599 - categorical_accuracy: 0.9212\n",
            "Epoch 17: val_loss improved from 0.78849 to 0.65878, saving model to /content/gdrive/MyDrive/Colab Notebooks/Project_data_2024-05-0618_45_35.453847/model-00017-0.25985-0.92157-0.65878-0.69000.keras\n",
            "34/34 [==============================] - 50s 2s/step - loss: 0.2598 - categorical_accuracy: 0.9216 - val_loss: 0.6588 - val_categorical_accuracy: 0.6900 - lr: 8.0000e-06\n",
            "Epoch 18/25\n",
            "33/34 [============================>.] - ETA: 1s - loss: 0.2491 - categorical_accuracy: 0.9258\n",
            "Epoch 18: val_loss improved from 0.65878 to 0.55299, saving model to /content/gdrive/MyDrive/Colab Notebooks/Project_data_2024-05-0618_45_35.453847/model-00018-0.25170-0.92459-0.55299-0.78000.keras\n",
            "34/34 [==============================] - 50s 1s/step - loss: 0.2517 - categorical_accuracy: 0.9246 - val_loss: 0.5530 - val_categorical_accuracy: 0.7800 - lr: 8.0000e-06\n",
            "Epoch 19/25\n",
            "34/34 [==============================] - ETA: 0s - loss: 0.2488 - categorical_accuracy: 0.9276\n",
            "Epoch 19: val_loss did not improve from 0.55299\n",
            "34/34 [==============================] - 50s 1s/step - loss: 0.2488 - categorical_accuracy: 0.9276 - val_loss: 0.6219 - val_categorical_accuracy: 0.7500 - lr: 8.0000e-06\n",
            "Epoch 20/25\n",
            "34/34 [==============================] - ETA: 0s - loss: 0.2653 - categorical_accuracy: 0.9095\n",
            "Epoch 20: val_loss did not improve from 0.55299\n",
            "34/34 [==============================] - 47s 1s/step - loss: 0.2653 - categorical_accuracy: 0.9095 - val_loss: 0.6778 - val_categorical_accuracy: 0.7400 - lr: 8.0000e-06\n",
            "Epoch 21/25\n",
            "33/34 [============================>.] - ETA: 1s - loss: 0.2535 - categorical_accuracy: 0.9197\n",
            "Epoch 21: val_loss did not improve from 0.55299\n",
            "\n",
            "Epoch 21: ReduceLROnPlateau reducing learning rate to 1.6000001778593287e-06.\n",
            "34/34 [==============================] - 49s 1s/step - loss: 0.2532 - categorical_accuracy: 0.9201 - val_loss: 0.5658 - val_categorical_accuracy: 0.7600 - lr: 8.0000e-06\n",
            "Epoch 22/25\n",
            "34/34 [==============================] - ETA: 0s - loss: 0.2505 - categorical_accuracy: 0.9155\n",
            "Epoch 22: val_loss did not improve from 0.55299\n",
            "34/34 [==============================] - 48s 1s/step - loss: 0.2505 - categorical_accuracy: 0.9155 - val_loss: 0.5856 - val_categorical_accuracy: 0.7700 - lr: 1.6000e-06\n",
            "Epoch 23/25\n",
            "34/34 [==============================] - ETA: 0s - loss: 0.2564 - categorical_accuracy: 0.9276\n",
            "Epoch 23: val_loss improved from 0.55299 to 0.49408, saving model to /content/gdrive/MyDrive/Colab Notebooks/Project_data_2024-05-0618_45_35.453847/model-00023-0.25643-0.92760-0.49408-0.80000.keras\n",
            "34/34 [==============================] - 49s 1s/step - loss: 0.2564 - categorical_accuracy: 0.9276 - val_loss: 0.4941 - val_categorical_accuracy: 0.8000 - lr: 1.6000e-06\n",
            "Epoch 24/25\n",
            "34/34 [==============================] - ETA: 0s - loss: 0.2419 - categorical_accuracy: 0.9351\n",
            "Epoch 24: val_loss did not improve from 0.49408\n",
            "34/34 [==============================] - 50s 1s/step - loss: 0.2419 - categorical_accuracy: 0.9351 - val_loss: 0.5783 - val_categorical_accuracy: 0.7400 - lr: 1.6000e-06\n",
            "Epoch 25/25\n",
            "33/34 [============================>.] - ETA: 1s - loss: 0.2391 - categorical_accuracy: 0.9273\n",
            "Epoch 25: val_loss did not improve from 0.49408\n",
            "34/34 [==============================] - 48s 1s/step - loss: 0.2411 - categorical_accuracy: 0.9261 - val_loss: 0.5471 - val_categorical_accuracy: 0.7900 - lr: 1.6000e-06\n"
          ]
        }
      ],
      "source": [
        "history_conv2d_GRU = model_train_fit(convd2_model_GRU,train_path,train_doc,val_path, val_doc,batch_size,\n",
        "                      frame_count,img_y,img_z,num_train_sequences,num_val_sequences,num_epochs)"
      ]
    },
    {
      "cell_type": "markdown",
      "metadata": {
        "id": "5AJ4TzJ08d_D"
      },
      "source": [
        "Observation as per above model we are getting good training accuracy but not the good val accuracy"
      ]
    },
    {
      "cell_type": "markdown",
      "metadata": {
        "id": "Dpjr2yFilmDP"
      },
      "source": [
        "### Conv2D RNN + GRU Model_8\n",
        "Increased dropout % it was slightly overfitting in the previous GRU model\n",
        "\n"
      ]
    },
    {
      "cell_type": "code",
      "execution_count": 46,
      "metadata": {
        "id": "PagFuOsoL1sM",
        "colab": {
          "base_uri": "https://localhost:8080/"
        },
        "outputId": "64b40e56-e8da-49ef-c402-90de883dcf6e"
      },
      "outputs": [
        {
          "output_type": "stream",
          "name": "stdout",
          "text": [
            "Model: \"sequential_7\"\n",
            "_________________________________________________________________\n",
            " Layer (type)                Output Shape              Param #   \n",
            "=================================================================\n",
            " time_distributed_48 (TimeD  (None, 20, 120, 120, 16   448       \n",
            " istributed)                 )                                   \n",
            "                                                                 \n",
            " time_distributed_49 (TimeD  (None, 20, 120, 120, 16   64        \n",
            " istributed)                 )                                   \n",
            "                                                                 \n",
            " time_distributed_50 (TimeD  (None, 20, 60, 60, 16)    0         \n",
            " istributed)                                                     \n",
            "                                                                 \n",
            " time_distributed_51 (TimeD  (None, 20, 60, 60, 32)    4640      \n",
            " istributed)                                                     \n",
            "                                                                 \n",
            " time_distributed_52 (TimeD  (None, 20, 60, 60, 32)    128       \n",
            " istributed)                                                     \n",
            "                                                                 \n",
            " time_distributed_53 (TimeD  (None, 20, 30, 30, 32)    0         \n",
            " istributed)                                                     \n",
            "                                                                 \n",
            " time_distributed_54 (TimeD  (None, 20, 30, 30, 64)    18496     \n",
            " istributed)                                                     \n",
            "                                                                 \n",
            " time_distributed_55 (TimeD  (None, 20, 30, 30, 64)    256       \n",
            " istributed)                                                     \n",
            "                                                                 \n",
            " time_distributed_56 (TimeD  (None, 20, 15, 15, 64)    0         \n",
            " istributed)                                                     \n",
            "                                                                 \n",
            " time_distributed_57 (TimeD  (None, 20, 15, 15, 128)   73856     \n",
            " istributed)                                                     \n",
            "                                                                 \n",
            " time_distributed_58 (TimeD  (None, 20, 15, 15, 128)   512       \n",
            " istributed)                                                     \n",
            "                                                                 \n",
            " time_distributed_59 (TimeD  (None, 20, 7, 7, 128)     0         \n",
            " istributed)                                                     \n",
            "                                                                 \n",
            " time_distributed_60 (TimeD  (None, 20, 7, 7, 256)     295168    \n",
            " istributed)                                                     \n",
            "                                                                 \n",
            " time_distributed_61 (TimeD  (None, 20, 7, 7, 256)     1024      \n",
            " istributed)                                                     \n",
            "                                                                 \n",
            " time_distributed_62 (TimeD  (None, 20, 3, 3, 256)     0         \n",
            " istributed)                                                     \n",
            "                                                                 \n",
            " time_distributed_63 (TimeD  (None, 20, 2304)          0         \n",
            " istributed)                                                     \n",
            "                                                                 \n",
            " gru_1 (GRU)                 (None, 128)               934656    \n",
            "                                                                 \n",
            " dropout_10 (Dropout)        (None, 128)               0         \n",
            "                                                                 \n",
            " dense_14 (Dense)            (None, 128)               16512     \n",
            "                                                                 \n",
            " dropout_11 (Dropout)        (None, 128)               0         \n",
            "                                                                 \n",
            " dense_15 (Dense)            (None, 5)                 645       \n",
            "                                                                 \n",
            "=================================================================\n",
            "Total params: 1346405 (5.14 MB)\n",
            "Trainable params: 1345413 (5.13 MB)\n",
            "Non-trainable params: 992 (3.88 KB)\n",
            "_________________________________________________________________\n",
            "None\n"
          ]
        }
      ],
      "source": [
        "#Finding optimal frame_count and hyper parameters\n",
        "frame_count=20\n",
        "batch_size=20\n",
        "img_y =120\n",
        "img_z =120\n",
        "num_epochs = 25\n",
        "Input_shape = (frame_count, img_y, img_z, 3)\n",
        "convd2_model_GRU2 = define_conv2d_GRU_model(Input_shape, 128, 128,0.35)\n",
        "print (convd2_model_GRU2.summary())"
      ]
    },
    {
      "cell_type": "code",
      "execution_count": 47,
      "metadata": {
        "id": "Tsk5ecHUMknr",
        "colab": {
          "base_uri": "https://localhost:8080/"
        },
        "outputId": "1f3d4b01-3221-490f-a3e3-34201e6d6863"
      },
      "outputs": [
        {
          "output_type": "stream",
          "name": "stdout",
          "text": [
            "Source path =  /content/Project_data/train ; batch size = 20\n",
            "Epoch 1/25\n",
            "33/34 [============================>.] - ETA: 1s - loss: 1.5431 - categorical_accuracy: 0.3545Source path =  /content/Project_data/val ; batch size = 20\n",
            "\n",
            "Epoch 1: val_loss improved from inf to 2.94556, saving model to /content/gdrive/MyDrive/Colab Notebooks/Project_data_2024-05-0618_45_35.453847/model-00001-1.54513-0.35596-2.94556-0.21000.keras\n",
            "34/34 [==============================] - 60s 2s/step - loss: 1.5451 - categorical_accuracy: 0.3560 - val_loss: 2.9456 - val_categorical_accuracy: 0.2100 - lr: 0.0010\n",
            "Epoch 2/25\n",
            "34/34 [==============================] - ETA: 0s - loss: 1.2127 - categorical_accuracy: 0.4736\n",
            "Epoch 2: val_loss improved from 2.94556 to 2.74860, saving model to /content/gdrive/MyDrive/Colab Notebooks/Project_data_2024-05-0618_45_35.453847/model-00002-1.21273-0.47360-2.74860-0.24000.keras\n",
            "34/34 [==============================] - 49s 1s/step - loss: 1.2127 - categorical_accuracy: 0.4736 - val_loss: 2.7486 - val_categorical_accuracy: 0.2400 - lr: 0.0010\n",
            "Epoch 3/25\n",
            "33/34 [============================>.] - ETA: 1s - loss: 1.0453 - categorical_accuracy: 0.5773\n",
            "Epoch 3: val_loss improved from 2.74860 to 2.55670, saving model to /content/gdrive/MyDrive/Colab Notebooks/Project_data_2024-05-0618_45_35.453847/model-00003-1.04805-0.57617-2.55670-0.14000.keras\n",
            "34/34 [==============================] - 49s 1s/step - loss: 1.0481 - categorical_accuracy: 0.5762 - val_loss: 2.5567 - val_categorical_accuracy: 0.1400 - lr: 0.0010\n",
            "Epoch 4/25\n",
            "34/34 [==============================] - ETA: 0s - loss: 0.9768 - categorical_accuracy: 0.5792\n",
            "Epoch 4: val_loss improved from 2.55670 to 2.39604, saving model to /content/gdrive/MyDrive/Colab Notebooks/Project_data_2024-05-0618_45_35.453847/model-00004-0.97683-0.57919-2.39604-0.24000.keras\n",
            "34/34 [==============================] - 49s 1s/step - loss: 0.9768 - categorical_accuracy: 0.5792 - val_loss: 2.3960 - val_categorical_accuracy: 0.2400 - lr: 0.0010\n",
            "Epoch 5/25\n",
            "34/34 [==============================] - ETA: 0s - loss: 0.9148 - categorical_accuracy: 0.6440\n",
            "Epoch 5: val_loss improved from 2.39604 to 2.07454, saving model to /content/gdrive/MyDrive/Colab Notebooks/Project_data_2024-05-0618_45_35.453847/model-00005-0.91481-0.64404-2.07454-0.22000.keras\n",
            "34/34 [==============================] - 48s 1s/step - loss: 0.9148 - categorical_accuracy: 0.6440 - val_loss: 2.0745 - val_categorical_accuracy: 0.2200 - lr: 0.0010\n",
            "Epoch 6/25\n",
            "34/34 [==============================] - ETA: 0s - loss: 0.8309 - categorical_accuracy: 0.6516\n",
            "Epoch 6: val_loss did not improve from 2.07454\n",
            "34/34 [==============================] - 49s 1s/step - loss: 0.8309 - categorical_accuracy: 0.6516 - val_loss: 2.2395 - val_categorical_accuracy: 0.2100 - lr: 0.0010\n",
            "Epoch 7/25\n",
            "34/34 [==============================] - ETA: 0s - loss: 0.7591 - categorical_accuracy: 0.7029\n",
            "Epoch 7: val_loss did not improve from 2.07454\n",
            "34/34 [==============================] - 48s 1s/step - loss: 0.7591 - categorical_accuracy: 0.7029 - val_loss: 2.7211 - val_categorical_accuracy: 0.2400 - lr: 0.0010\n",
            "Epoch 8/25\n",
            "33/34 [============================>.] - ETA: 1s - loss: 0.6059 - categorical_accuracy: 0.7652\n",
            "Epoch 8: val_loss did not improve from 2.07454\n",
            "\n",
            "Epoch 8: ReduceLROnPlateau reducing learning rate to 0.00020000000949949026.\n",
            "34/34 [==============================] - 48s 1s/step - loss: 0.6073 - categorical_accuracy: 0.7647 - val_loss: 2.7898 - val_categorical_accuracy: 0.2400 - lr: 0.0010\n",
            "Epoch 9/25\n",
            "33/34 [============================>.] - ETA: 1s - loss: 0.4590 - categorical_accuracy: 0.8227\n",
            "Epoch 9: val_loss did not improve from 2.07454\n",
            "34/34 [==============================] - 49s 1s/step - loss: 0.4589 - categorical_accuracy: 0.8220 - val_loss: 2.4478 - val_categorical_accuracy: 0.2400 - lr: 2.0000e-04\n",
            "Epoch 10/25\n",
            "34/34 [==============================] - ETA: 0s - loss: 0.4048 - categorical_accuracy: 0.8446\n",
            "Epoch 10: val_loss did not improve from 2.07454\n",
            "34/34 [==============================] - 49s 1s/step - loss: 0.4048 - categorical_accuracy: 0.8446 - val_loss: 2.5003 - val_categorical_accuracy: 0.3400 - lr: 2.0000e-04\n",
            "Epoch 11/25\n",
            "34/34 [==============================] - ETA: 0s - loss: 0.3444 - categorical_accuracy: 0.8733\n",
            "Epoch 11: val_loss did not improve from 2.07454\n",
            "\n",
            "Epoch 11: ReduceLROnPlateau reducing learning rate to 4.0000001899898055e-05.\n",
            "34/34 [==============================] - 49s 1s/step - loss: 0.3444 - categorical_accuracy: 0.8733 - val_loss: 2.4553 - val_categorical_accuracy: 0.3200 - lr: 2.0000e-04\n",
            "Epoch 12/25\n",
            "33/34 [============================>.] - ETA: 1s - loss: 0.2664 - categorical_accuracy: 0.9121\n",
            "Epoch 12: val_loss did not improve from 2.07454\n",
            "34/34 [==============================] - 49s 1s/step - loss: 0.2687 - categorical_accuracy: 0.9110 - val_loss: 2.2769 - val_categorical_accuracy: 0.3400 - lr: 4.0000e-05\n",
            "Epoch 13/25\n",
            "33/34 [============================>.] - ETA: 1s - loss: 0.2857 - categorical_accuracy: 0.9000\n",
            "Epoch 13: val_loss did not improve from 2.07454\n",
            "34/34 [==============================] - 48s 1s/step - loss: 0.2867 - categorical_accuracy: 0.8989 - val_loss: 2.0957 - val_categorical_accuracy: 0.3400 - lr: 4.0000e-05\n",
            "Epoch 14/25\n",
            "34/34 [==============================] - ETA: 0s - loss: 0.2921 - categorical_accuracy: 0.8974\n",
            "Epoch 14: val_loss improved from 2.07454 to 1.62962, saving model to /content/gdrive/MyDrive/Colab Notebooks/Project_data_2024-05-0618_45_35.453847/model-00014-0.29212-0.89744-1.62962-0.42000.keras\n",
            "34/34 [==============================] - 48s 1s/step - loss: 0.2921 - categorical_accuracy: 0.8974 - val_loss: 1.6296 - val_categorical_accuracy: 0.4200 - lr: 4.0000e-05\n",
            "Epoch 15/25\n",
            "34/34 [==============================] - ETA: 0s - loss: 0.2555 - categorical_accuracy: 0.9246\n",
            "Epoch 15: val_loss improved from 1.62962 to 1.43186, saving model to /content/gdrive/MyDrive/Colab Notebooks/Project_data_2024-05-0618_45_35.453847/model-00015-0.25553-0.92459-1.43186-0.42000.keras\n",
            "34/34 [==============================] - 48s 1s/step - loss: 0.2555 - categorical_accuracy: 0.9246 - val_loss: 1.4319 - val_categorical_accuracy: 0.4200 - lr: 4.0000e-05\n",
            "Epoch 16/25\n",
            "34/34 [==============================] - ETA: 0s - loss: 0.2327 - categorical_accuracy: 0.9351\n",
            "Epoch 16: val_loss improved from 1.43186 to 1.15073, saving model to /content/gdrive/MyDrive/Colab Notebooks/Project_data_2024-05-0618_45_35.453847/model-00016-0.23275-0.93514-1.15073-0.61000.keras\n",
            "34/34 [==============================] - 48s 1s/step - loss: 0.2327 - categorical_accuracy: 0.9351 - val_loss: 1.1507 - val_categorical_accuracy: 0.6100 - lr: 4.0000e-05\n",
            "Epoch 17/25\n",
            "33/34 [============================>.] - ETA: 1s - loss: 0.2543 - categorical_accuracy: 0.9030\n",
            "Epoch 17: val_loss improved from 1.15073 to 0.83293, saving model to /content/gdrive/MyDrive/Colab Notebooks/Project_data_2024-05-0618_45_35.453847/model-00017-0.25797-0.90196-0.83293-0.66000.keras\n",
            "34/34 [==============================] - 49s 1s/step - loss: 0.2580 - categorical_accuracy: 0.9020 - val_loss: 0.8329 - val_categorical_accuracy: 0.6600 - lr: 4.0000e-05\n",
            "Epoch 18/25\n",
            "34/34 [==============================] - ETA: 0s - loss: 0.2593 - categorical_accuracy: 0.9110\n",
            "Epoch 18: val_loss improved from 0.83293 to 0.78593, saving model to /content/gdrive/MyDrive/Colab Notebooks/Project_data_2024-05-0618_45_35.453847/model-00018-0.25927-0.91101-0.78593-0.69000.keras\n",
            "34/34 [==============================] - 49s 1s/step - loss: 0.2593 - categorical_accuracy: 0.9110 - val_loss: 0.7859 - val_categorical_accuracy: 0.6900 - lr: 4.0000e-05\n",
            "Epoch 19/25\n",
            "34/34 [==============================] - ETA: 0s - loss: 0.2442 - categorical_accuracy: 0.9201\n",
            "Epoch 19: val_loss improved from 0.78593 to 0.57011, saving model to /content/gdrive/MyDrive/Colab Notebooks/Project_data_2024-05-0618_45_35.453847/model-00019-0.24416-0.92006-0.57011-0.80000.keras\n",
            "34/34 [==============================] - 49s 1s/step - loss: 0.2442 - categorical_accuracy: 0.9201 - val_loss: 0.5701 - val_categorical_accuracy: 0.8000 - lr: 4.0000e-05\n",
            "Epoch 20/25\n",
            "34/34 [==============================] - ETA: 0s - loss: 0.2375 - categorical_accuracy: 0.9125\n",
            "Epoch 20: val_loss did not improve from 0.57011\n",
            "34/34 [==============================] - 49s 1s/step - loss: 0.2375 - categorical_accuracy: 0.9125 - val_loss: 0.5974 - val_categorical_accuracy: 0.7800 - lr: 4.0000e-05\n",
            "Epoch 21/25\n",
            "34/34 [==============================] - ETA: 0s - loss: 0.2285 - categorical_accuracy: 0.9291\n",
            "Epoch 21: val_loss improved from 0.57011 to 0.56081, saving model to /content/gdrive/MyDrive/Colab Notebooks/Project_data_2024-05-0618_45_35.453847/model-00021-0.22855-0.92911-0.56081-0.81000.keras\n",
            "34/34 [==============================] - 50s 2s/step - loss: 0.2285 - categorical_accuracy: 0.9291 - val_loss: 0.5608 - val_categorical_accuracy: 0.8100 - lr: 4.0000e-05\n",
            "Epoch 22/25\n",
            "34/34 [==============================] - ETA: 0s - loss: 0.2188 - categorical_accuracy: 0.9261\n",
            "Epoch 22: val_loss did not improve from 0.56081\n",
            "34/34 [==============================] - 49s 1s/step - loss: 0.2188 - categorical_accuracy: 0.9261 - val_loss: 0.6095 - val_categorical_accuracy: 0.7600 - lr: 4.0000e-05\n",
            "Epoch 23/25\n",
            "33/34 [============================>.] - ETA: 1s - loss: 0.2040 - categorical_accuracy: 0.9303\n",
            "Epoch 23: val_loss did not improve from 0.56081\n",
            "34/34 [==============================] - 49s 1s/step - loss: 0.2061 - categorical_accuracy: 0.9291 - val_loss: 0.5925 - val_categorical_accuracy: 0.7200 - lr: 4.0000e-05\n",
            "Epoch 24/25\n",
            "34/34 [==============================] - ETA: 0s - loss: 0.1888 - categorical_accuracy: 0.9382\n",
            "Epoch 24: val_loss improved from 0.56081 to 0.50340, saving model to /content/gdrive/MyDrive/Colab Notebooks/Project_data_2024-05-0618_45_35.453847/model-00024-0.18880-0.93816-0.50340-0.82000.keras\n",
            "34/34 [==============================] - 50s 2s/step - loss: 0.1888 - categorical_accuracy: 0.9382 - val_loss: 0.5034 - val_categorical_accuracy: 0.8200 - lr: 4.0000e-05\n",
            "Epoch 25/25\n",
            "34/34 [==============================] - ETA: 0s - loss: 0.1927 - categorical_accuracy: 0.9442\n",
            "Epoch 25: val_loss did not improve from 0.50340\n",
            "34/34 [==============================] - 50s 2s/step - loss: 0.1927 - categorical_accuracy: 0.9442 - val_loss: 0.5159 - val_categorical_accuracy: 0.7800 - lr: 4.0000e-05\n"
          ]
        }
      ],
      "source": [
        "history_conv2d_GRU2 = model_train_fit(convd2_model_GRU2,train_path,train_doc,val_path, val_doc,batch_size,\n",
        "                      frame_count,img_y,img_z,num_train_sequences,num_val_sequences,num_epochs)"
      ]
    },
    {
      "cell_type": "markdown",
      "metadata": {
        "id": "UyMeWzXr8d_E"
      },
      "source": [
        "Observations : Validation accuracy need to improve"
      ]
    },
    {
      "cell_type": "markdown",
      "metadata": {
        "id": "oj5TUcag8d_E"
      },
      "source": [
        "### Conv2D RNN + GRU Model_9"
      ]
    },
    {
      "cell_type": "code",
      "execution_count": 48,
      "metadata": {
        "id": "GR8G4uOgRNAP",
        "colab": {
          "base_uri": "https://localhost:8080/"
        },
        "outputId": "a08feeb9-1411-45ad-f549-e064fb6bf0c2"
      },
      "outputs": [
        {
          "output_type": "stream",
          "name": "stdout",
          "text": [
            "Model: \"sequential_8\"\n",
            "_________________________________________________________________\n",
            " Layer (type)                Output Shape              Param #   \n",
            "=================================================================\n",
            " time_distributed_64 (TimeD  (None, 18, 120, 120, 16   448       \n",
            " istributed)                 )                                   \n",
            "                                                                 \n",
            " time_distributed_65 (TimeD  (None, 18, 120, 120, 16   64        \n",
            " istributed)                 )                                   \n",
            "                                                                 \n",
            " time_distributed_66 (TimeD  (None, 18, 60, 60, 16)    0         \n",
            " istributed)                                                     \n",
            "                                                                 \n",
            " time_distributed_67 (TimeD  (None, 18, 60, 60, 32)    4640      \n",
            " istributed)                                                     \n",
            "                                                                 \n",
            " time_distributed_68 (TimeD  (None, 18, 60, 60, 32)    128       \n",
            " istributed)                                                     \n",
            "                                                                 \n",
            " time_distributed_69 (TimeD  (None, 18, 30, 30, 32)    0         \n",
            " istributed)                                                     \n",
            "                                                                 \n",
            " time_distributed_70 (TimeD  (None, 18, 30, 30, 64)    18496     \n",
            " istributed)                                                     \n",
            "                                                                 \n",
            " time_distributed_71 (TimeD  (None, 18, 30, 30, 64)    256       \n",
            " istributed)                                                     \n",
            "                                                                 \n",
            " time_distributed_72 (TimeD  (None, 18, 15, 15, 64)    0         \n",
            " istributed)                                                     \n",
            "                                                                 \n",
            " time_distributed_73 (TimeD  (None, 18, 15, 15, 128)   73856     \n",
            " istributed)                                                     \n",
            "                                                                 \n",
            " time_distributed_74 (TimeD  (None, 18, 15, 15, 128)   512       \n",
            " istributed)                                                     \n",
            "                                                                 \n",
            " time_distributed_75 (TimeD  (None, 18, 7, 7, 128)     0         \n",
            " istributed)                                                     \n",
            "                                                                 \n",
            " time_distributed_76 (TimeD  (None, 18, 7, 7, 256)     295168    \n",
            " istributed)                                                     \n",
            "                                                                 \n",
            " time_distributed_77 (TimeD  (None, 18, 7, 7, 256)     1024      \n",
            " istributed)                                                     \n",
            "                                                                 \n",
            " time_distributed_78 (TimeD  (None, 18, 3, 3, 256)     0         \n",
            " istributed)                                                     \n",
            "                                                                 \n",
            " time_distributed_79 (TimeD  (None, 18, 2304)          0         \n",
            " istributed)                                                     \n",
            "                                                                 \n",
            " gru_2 (GRU)                 (None, 128)               934656    \n",
            "                                                                 \n",
            " dropout_12 (Dropout)        (None, 128)               0         \n",
            "                                                                 \n",
            " dense_16 (Dense)            (None, 128)               16512     \n",
            "                                                                 \n",
            " dropout_13 (Dropout)        (None, 128)               0         \n",
            "                                                                 \n",
            " dense_17 (Dense)            (None, 5)                 645       \n",
            "                                                                 \n",
            "=================================================================\n",
            "Total params: 1346405 (5.14 MB)\n",
            "Trainable params: 1345413 (5.13 MB)\n",
            "Non-trainable params: 992 (3.88 KB)\n",
            "_________________________________________________________________\n",
            "None\n"
          ]
        }
      ],
      "source": [
        "#Finding optimal frame_count and hyper parameters\n",
        "frame_count=18\n",
        "batch_size=20\n",
        "img_y =120\n",
        "img_z =120\n",
        "num_epochs = 25\n",
        "Input_shape = (frame_count, img_y, img_z, 3)\n",
        "convd2_model_GRU3 = define_conv2d_GRU_model(Input_shape, 128, 128,0.35)\n",
        "print (convd2_model_GRU3.summary())"
      ]
    },
    {
      "cell_type": "code",
      "execution_count": 49,
      "metadata": {
        "id": "eLcrNLUIRU8l",
        "colab": {
          "base_uri": "https://localhost:8080/"
        },
        "outputId": "7cfd678a-0c75-4117-bf7d-84080c76833b"
      },
      "outputs": [
        {
          "output_type": "stream",
          "name": "stdout",
          "text": [
            "Source path =  /content/Project_data/train ; batch size = 20\n",
            "Epoch 1/25\n",
            "34/34 [==============================] - ETA: 0s - loss: 1.5532 - categorical_accuracy: 0.3710Source path =  /content/Project_data/val ; batch size = 20\n",
            "\n",
            "Epoch 1: val_loss improved from inf to 1.97061, saving model to /content/gdrive/MyDrive/Colab Notebooks/Project_data_2024-05-0618_45_35.453847/model-00001-1.55324-0.37104-1.97061-0.21000.keras\n",
            "34/34 [==============================] - 59s 1s/step - loss: 1.5532 - categorical_accuracy: 0.3710 - val_loss: 1.9706 - val_categorical_accuracy: 0.2100 - lr: 0.0010\n",
            "Epoch 2/25\n",
            "34/34 [==============================] - ETA: 0s - loss: 1.2428 - categorical_accuracy: 0.4706\n",
            "Epoch 2: val_loss did not improve from 1.97061\n",
            "34/34 [==============================] - 47s 1s/step - loss: 1.2428 - categorical_accuracy: 0.4706 - val_loss: 2.2144 - val_categorical_accuracy: 0.2500 - lr: 0.0010\n",
            "Epoch 3/25\n",
            "34/34 [==============================] - ETA: 0s - loss: 1.0882 - categorical_accuracy: 0.5445\n",
            "Epoch 3: val_loss did not improve from 1.97061\n",
            "34/34 [==============================] - 48s 1s/step - loss: 1.0882 - categorical_accuracy: 0.5445 - val_loss: 2.6637 - val_categorical_accuracy: 0.2100 - lr: 0.0010\n",
            "Epoch 4/25\n",
            "33/34 [============================>.] - ETA: 1s - loss: 0.8801 - categorical_accuracy: 0.6515\n",
            "Epoch 4: val_loss improved from 1.97061 to 1.84199, saving model to /content/gdrive/MyDrive/Colab Notebooks/Project_data_2024-05-0618_45_35.453847/model-00004-0.87744-0.65309-1.84199-0.29000.keras\n",
            "34/34 [==============================] - 46s 1s/step - loss: 0.8774 - categorical_accuracy: 0.6531 - val_loss: 1.8420 - val_categorical_accuracy: 0.2900 - lr: 0.0010\n",
            "Epoch 5/25\n",
            "34/34 [==============================] - ETA: 0s - loss: 0.8545 - categorical_accuracy: 0.6667\n",
            "Epoch 5: val_loss did not improve from 1.84199\n",
            "34/34 [==============================] - 44s 1s/step - loss: 0.8545 - categorical_accuracy: 0.6667 - val_loss: 2.0258 - val_categorical_accuracy: 0.2600 - lr: 0.0010\n",
            "Epoch 6/25\n",
            "34/34 [==============================] - ETA: 0s - loss: 0.7542 - categorical_accuracy: 0.6998\n",
            "Epoch 6: val_loss did not improve from 1.84199\n",
            "34/34 [==============================] - 46s 1s/step - loss: 0.7542 - categorical_accuracy: 0.6998 - val_loss: 2.1461 - val_categorical_accuracy: 0.2400 - lr: 0.0010\n",
            "Epoch 7/25\n",
            "33/34 [============================>.] - ETA: 1s - loss: 0.6495 - categorical_accuracy: 0.7333\n",
            "Epoch 7: val_loss did not improve from 1.84199\n",
            "\n",
            "Epoch 7: ReduceLROnPlateau reducing learning rate to 0.00020000000949949026.\n",
            "34/34 [==============================] - 46s 1s/step - loss: 0.6508 - categorical_accuracy: 0.7330 - val_loss: 2.0430 - val_categorical_accuracy: 0.3100 - lr: 0.0010\n",
            "Epoch 8/25\n",
            "34/34 [==============================] - ETA: 0s - loss: 0.4903 - categorical_accuracy: 0.8054\n",
            "Epoch 8: val_loss did not improve from 1.84199\n",
            "34/34 [==============================] - 46s 1s/step - loss: 0.4903 - categorical_accuracy: 0.8054 - val_loss: 2.1051 - val_categorical_accuracy: 0.3000 - lr: 2.0000e-04\n",
            "Epoch 9/25\n",
            "34/34 [==============================] - ETA: 0s - loss: 0.4056 - categorical_accuracy: 0.8477\n",
            "Epoch 9: val_loss did not improve from 1.84199\n",
            "34/34 [==============================] - 43s 1s/step - loss: 0.4056 - categorical_accuracy: 0.8477 - val_loss: 1.9016 - val_categorical_accuracy: 0.3900 - lr: 2.0000e-04\n",
            "Epoch 10/25\n",
            "34/34 [==============================] - ETA: 0s - loss: 0.3221 - categorical_accuracy: 0.8899\n",
            "Epoch 10: val_loss did not improve from 1.84199\n",
            "\n",
            "Epoch 10: ReduceLROnPlateau reducing learning rate to 4.0000001899898055e-05.\n",
            "34/34 [==============================] - 46s 1s/step - loss: 0.3221 - categorical_accuracy: 0.8899 - val_loss: 2.0013 - val_categorical_accuracy: 0.3500 - lr: 2.0000e-04\n",
            "Epoch 11/25\n",
            "34/34 [==============================] - ETA: 0s - loss: 0.3476 - categorical_accuracy: 0.8748\n",
            "Epoch 11: val_loss improved from 1.84199 to 1.75790, saving model to /content/gdrive/MyDrive/Colab Notebooks/Project_data_2024-05-0618_45_35.453847/model-00011-0.34763-0.87481-1.75790-0.44000.keras\n",
            "34/34 [==============================] - 44s 1s/step - loss: 0.3476 - categorical_accuracy: 0.8748 - val_loss: 1.7579 - val_categorical_accuracy: 0.4400 - lr: 4.0000e-05\n",
            "Epoch 12/25\n",
            "34/34 [==============================] - ETA: 0s - loss: 0.2979 - categorical_accuracy: 0.8944\n",
            "Epoch 12: val_loss improved from 1.75790 to 1.56322, saving model to /content/gdrive/MyDrive/Colab Notebooks/Project_data_2024-05-0618_45_35.453847/model-00012-0.29794-0.89442-1.56322-0.46000.keras\n",
            "34/34 [==============================] - 46s 1s/step - loss: 0.2979 - categorical_accuracy: 0.8944 - val_loss: 1.5632 - val_categorical_accuracy: 0.4600 - lr: 4.0000e-05\n",
            "Epoch 13/25\n",
            "33/34 [============================>.] - ETA: 1s - loss: 0.2926 - categorical_accuracy: 0.8879\n",
            "Epoch 13: val_loss improved from 1.56322 to 1.47986, saving model to /content/gdrive/MyDrive/Colab Notebooks/Project_data_2024-05-0618_45_35.453847/model-00013-0.29433-0.88688-1.47986-0.45000.keras\n",
            "34/34 [==============================] - 45s 1s/step - loss: 0.2943 - categorical_accuracy: 0.8869 - val_loss: 1.4799 - val_categorical_accuracy: 0.4500 - lr: 4.0000e-05\n",
            "Epoch 14/25\n",
            "34/34 [==============================] - ETA: 0s - loss: 0.2682 - categorical_accuracy: 0.9020\n",
            "Epoch 14: val_loss improved from 1.47986 to 1.26762, saving model to /content/gdrive/MyDrive/Colab Notebooks/Project_data_2024-05-0618_45_35.453847/model-00014-0.26815-0.90196-1.26762-0.51000.keras\n",
            "34/34 [==============================] - 46s 1s/step - loss: 0.2682 - categorical_accuracy: 0.9020 - val_loss: 1.2676 - val_categorical_accuracy: 0.5100 - lr: 4.0000e-05\n",
            "Epoch 15/25\n",
            "33/34 [============================>.] - ETA: 1s - loss: 0.2885 - categorical_accuracy: 0.8924\n",
            "Epoch 15: val_loss improved from 1.26762 to 1.10980, saving model to /content/gdrive/MyDrive/Colab Notebooks/Project_data_2024-05-0618_45_35.453847/model-00015-0.29058-0.89140-1.10980-0.59000.keras\n",
            "34/34 [==============================] - 46s 1s/step - loss: 0.2906 - categorical_accuracy: 0.8914 - val_loss: 1.1098 - val_categorical_accuracy: 0.5900 - lr: 4.0000e-05\n",
            "Epoch 16/25\n",
            "33/34 [============================>.] - ETA: 1s - loss: 0.2615 - categorical_accuracy: 0.9212\n",
            "Epoch 16: val_loss improved from 1.10980 to 0.99741, saving model to /content/gdrive/MyDrive/Colab Notebooks/Project_data_2024-05-0618_45_35.453847/model-00016-0.26651-0.91855-0.99741-0.62000.keras\n",
            "34/34 [==============================] - 45s 1s/step - loss: 0.2665 - categorical_accuracy: 0.9186 - val_loss: 0.9974 - val_categorical_accuracy: 0.6200 - lr: 4.0000e-05\n",
            "Epoch 17/25\n",
            "34/34 [==============================] - ETA: 0s - loss: 0.2447 - categorical_accuracy: 0.9246\n",
            "Epoch 17: val_loss improved from 0.99741 to 0.73485, saving model to /content/gdrive/MyDrive/Colab Notebooks/Project_data_2024-05-0618_45_35.453847/model-00017-0.24467-0.92459-0.73485-0.71000.keras\n",
            "34/34 [==============================] - 45s 1s/step - loss: 0.2447 - categorical_accuracy: 0.9246 - val_loss: 0.7348 - val_categorical_accuracy: 0.7100 - lr: 4.0000e-05\n",
            "Epoch 18/25\n",
            "34/34 [==============================] - ETA: 0s - loss: 0.2414 - categorical_accuracy: 0.9155\n",
            "Epoch 18: val_loss improved from 0.73485 to 0.57786, saving model to /content/gdrive/MyDrive/Colab Notebooks/Project_data_2024-05-0618_45_35.453847/model-00018-0.24144-0.91554-0.57786-0.74000.keras\n",
            "34/34 [==============================] - 44s 1s/step - loss: 0.2414 - categorical_accuracy: 0.9155 - val_loss: 0.5779 - val_categorical_accuracy: 0.7400 - lr: 4.0000e-05\n",
            "Epoch 19/25\n",
            "33/34 [============================>.] - ETA: 1s - loss: 0.2307 - categorical_accuracy: 0.9227\n",
            "Epoch 19: val_loss did not improve from 0.57786\n",
            "34/34 [==============================] - 44s 1s/step - loss: 0.2299 - categorical_accuracy: 0.9231 - val_loss: 0.6046 - val_categorical_accuracy: 0.7500 - lr: 4.0000e-05\n",
            "Epoch 20/25\n",
            "34/34 [==============================] - ETA: 0s - loss: 0.2354 - categorical_accuracy: 0.9110\n",
            "Epoch 20: val_loss did not improve from 0.57786\n",
            "34/34 [==============================] - 43s 1s/step - loss: 0.2354 - categorical_accuracy: 0.9110 - val_loss: 0.6621 - val_categorical_accuracy: 0.7600 - lr: 4.0000e-05\n",
            "Epoch 21/25\n",
            "34/34 [==============================] - ETA: 0s - loss: 0.2167 - categorical_accuracy: 0.9276\n",
            "Epoch 21: val_loss improved from 0.57786 to 0.55570, saving model to /content/gdrive/MyDrive/Colab Notebooks/Project_data_2024-05-0618_45_35.453847/model-00021-0.21666-0.92760-0.55570-0.78000.keras\n",
            "34/34 [==============================] - 46s 1s/step - loss: 0.2167 - categorical_accuracy: 0.9276 - val_loss: 0.5557 - val_categorical_accuracy: 0.7800 - lr: 4.0000e-05\n",
            "Epoch 22/25\n",
            "34/34 [==============================] - ETA: 0s - loss: 0.2226 - categorical_accuracy: 0.9291\n",
            "Epoch 22: val_loss did not improve from 0.55570\n",
            "34/34 [==============================] - 46s 1s/step - loss: 0.2226 - categorical_accuracy: 0.9291 - val_loss: 0.6438 - val_categorical_accuracy: 0.7200 - lr: 4.0000e-05\n",
            "Epoch 23/25\n",
            "34/34 [==============================] - ETA: 0s - loss: 0.2082 - categorical_accuracy: 0.9261\n",
            "Epoch 23: val_loss improved from 0.55570 to 0.42781, saving model to /content/gdrive/MyDrive/Colab Notebooks/Project_data_2024-05-0618_45_35.453847/model-00023-0.20825-0.92609-0.42781-0.83000.keras\n",
            "34/34 [==============================] - 46s 1s/step - loss: 0.2082 - categorical_accuracy: 0.9261 - val_loss: 0.4278 - val_categorical_accuracy: 0.8300 - lr: 4.0000e-05\n",
            "Epoch 24/25\n",
            "33/34 [============================>.] - ETA: 1s - loss: 0.1794 - categorical_accuracy: 0.9470\n",
            "Epoch 24: val_loss did not improve from 0.42781\n",
            "34/34 [==============================] - 46s 1s/step - loss: 0.1793 - categorical_accuracy: 0.9472 - val_loss: 0.5078 - val_categorical_accuracy: 0.7700 - lr: 4.0000e-05\n",
            "Epoch 25/25\n",
            "34/34 [==============================] - ETA: 0s - loss: 0.1984 - categorical_accuracy: 0.9367\n",
            "Epoch 25: val_loss did not improve from 0.42781\n",
            "34/34 [==============================] - 45s 1s/step - loss: 0.1984 - categorical_accuracy: 0.9367 - val_loss: 0.4323 - val_categorical_accuracy: 0.8300 - lr: 4.0000e-05\n"
          ]
        }
      ],
      "source": [
        "history_conv2d_GRU3 = model_train_fit(convd2_model_GRU3,train_path,train_doc,val_path, val_doc,batch_size,\n",
        "                      frame_count,img_y,img_z,num_train_sequences,num_val_sequences,num_epochs)"
      ]
    },
    {
      "cell_type": "markdown",
      "metadata": {
        "id": "LgoAXnhw8d_E"
      },
      "source": [
        "Observation : Model is still overfitting, as compared to previous model categorical accracy is reduced."
      ]
    },
    {
      "cell_type": "markdown",
      "metadata": {
        "id": "_asvh3qTaAnk"
      },
      "source": [
        "### GRU + MobileNet Model_10\n",
        "Transfer learning"
      ]
    },
    {
      "cell_type": "code",
      "execution_count": 50,
      "metadata": {
        "id": "7dwJxCbTaAno",
        "colab": {
          "base_uri": "https://localhost:8080/"
        },
        "outputId": "7a7c3282-44b7-4026-fcfb-aad1c6736809"
      },
      "outputs": [
        {
          "output_type": "stream",
          "name": "stderr",
          "text": [
            "WARNING:tensorflow:`input_shape` is undefined or non-square, or `rows` is not in [128, 160, 192, 224]. Weights for input shape (224, 224) will be loaded as the default.\n"
          ]
        },
        {
          "output_type": "stream",
          "name": "stdout",
          "text": [
            "Downloading data from https://storage.googleapis.com/tensorflow/keras-applications/mobilenet/mobilenet_1_0_224_tf_no_top.h5\n",
            "17225924/17225924 [==============================] - 2s 0us/step\n"
          ]
        }
      ],
      "source": [
        "from tensorflow.keras.applications import mobilenet\n",
        "\n",
        "mobilenet_transfer = mobilenet.MobileNet(weights='imagenet', include_top=False)\n",
        "\n",
        "def model_gru_mobilenet(Input_shape,gru_cells=64,dense_neurons=64,dropout=0.25):\n",
        "\n",
        "    model = Sequential()\n",
        "    model.add(TimeDistributed(mobilenet_transfer,input_shape=Input_shape))\n",
        "\n",
        "\n",
        "    model.add(TimeDistributed(BatchNormalization()))\n",
        "    model.add(TimeDistributed(MaxPooling2D((2, 2))))\n",
        "    model.add(TimeDistributed(Flatten()))\n",
        "\n",
        "    model.add(GRU(gru_cells))\n",
        "    model.add(Dropout(dropout))\n",
        "\n",
        "    model.add(Dense(dense_neurons,activation='relu'))\n",
        "    model.add(Dropout(dropout))\n",
        "\n",
        "    model.add(Dense(5, activation='softmax'))\n",
        "\n",
        "\n",
        "    optimiser = optimizers.Adam()\n",
        "    model.compile(optimizer=optimiser, loss='categorical_crossentropy', metrics=['categorical_accuracy'])\n",
        "    return model"
      ]
    },
    {
      "cell_type": "code",
      "execution_count": 51,
      "metadata": {
        "id": "yZ38kxbAaAno",
        "colab": {
          "base_uri": "https://localhost:8080/"
        },
        "outputId": "6f1fa6cb-bd08-44e3-8c85-5fa22c773c24"
      },
      "outputs": [
        {
          "output_type": "stream",
          "name": "stdout",
          "text": [
            "Model: \"sequential_9\"\n",
            "_________________________________________________________________\n",
            " Layer (type)                Output Shape              Param #   \n",
            "=================================================================\n",
            " time_distributed_80 (TimeD  (None, 16, 3, 3, 1024)    3228864   \n",
            " istributed)                                                     \n",
            "                                                                 \n",
            " time_distributed_81 (TimeD  (None, 16, 3, 3, 1024)    4096      \n",
            " istributed)                                                     \n",
            "                                                                 \n",
            " time_distributed_82 (TimeD  (None, 16, 1, 1, 1024)    0         \n",
            " istributed)                                                     \n",
            "                                                                 \n",
            " time_distributed_83 (TimeD  (None, 16, 1024)          0         \n",
            " istributed)                                                     \n",
            "                                                                 \n",
            " gru_3 (GRU)                 (None, 64)                209280    \n",
            "                                                                 \n",
            " dropout_14 (Dropout)        (None, 64)                0         \n",
            "                                                                 \n",
            " dense_18 (Dense)            (None, 64)                4160      \n",
            "                                                                 \n",
            " dropout_15 (Dropout)        (None, 64)                0         \n",
            "                                                                 \n",
            " dense_19 (Dense)            (None, 5)                 325       \n",
            "                                                                 \n",
            "=================================================================\n",
            "Total params: 3446725 (13.15 MB)\n",
            "Trainable params: 3422789 (13.06 MB)\n",
            "Non-trainable params: 23936 (93.50 KB)\n",
            "_________________________________________________________________\n",
            "None\n"
          ]
        }
      ],
      "source": [
        "frame_count=16\n",
        "img_y =120\n",
        "img_z =120\n",
        "batch_size=5\n",
        "num_epochs=20\n",
        "Input_shape = (frame_count, img_y, img_z, 3)\n",
        "model_mobilenet= model_gru_mobilenet(Input_shape)\n",
        "print (model_mobilenet.summary())"
      ]
    },
    {
      "cell_type": "code",
      "execution_count": 52,
      "metadata": {
        "id": "Gi-dIexMaAno",
        "colab": {
          "base_uri": "https://localhost:8080/"
        },
        "outputId": "9df42771-47ca-4773-81c9-b1953a48d2d8"
      },
      "outputs": [
        {
          "output_type": "stream",
          "name": "stdout",
          "text": [
            "Source path =  /content/Project_data/train ; batch size = 5\n",
            "Epoch 1/20\n",
            "133/133 [==============================] - ETA: 0s - loss: 1.2792 - categorical_accuracy: 0.4811Source path =  /content/Project_data/val ; batch size = 5\n",
            "\n",
            "Epoch 1: val_loss improved from inf to 0.85288, saving model to /content/gdrive/MyDrive/Colab Notebooks/Project_data_2024-05-0618_45_35.453847/model-00001-1.27921-0.48115-0.85288-0.68000.keras\n",
            "133/133 [==============================] - 72s 407ms/step - loss: 1.2792 - categorical_accuracy: 0.4811 - val_loss: 0.8529 - val_categorical_accuracy: 0.6800 - lr: 0.0010\n",
            "Epoch 2/20\n",
            "133/133 [==============================] - ETA: 0s - loss: 0.7492 - categorical_accuracy: 0.7089\n",
            "Epoch 2: val_loss improved from 0.85288 to 0.49428, saving model to /content/gdrive/MyDrive/Colab Notebooks/Project_data_2024-05-0618_45_35.453847/model-00002-0.74915-0.70890-0.49428-0.80000.keras\n",
            "133/133 [==============================] - 49s 371ms/step - loss: 0.7492 - categorical_accuracy: 0.7089 - val_loss: 0.4943 - val_categorical_accuracy: 0.8000 - lr: 0.0010\n",
            "Epoch 3/20\n",
            "133/133 [==============================] - ETA: 0s - loss: 0.5936 - categorical_accuracy: 0.7828\n",
            "Epoch 3: val_loss improved from 0.49428 to 0.35048, saving model to /content/gdrive/MyDrive/Colab Notebooks/Project_data_2024-05-0618_45_35.453847/model-00003-0.59360-0.78281-0.35048-0.88000.keras\n",
            "133/133 [==============================] - 47s 359ms/step - loss: 0.5936 - categorical_accuracy: 0.7828 - val_loss: 0.3505 - val_categorical_accuracy: 0.8800 - lr: 0.0010\n",
            "Epoch 4/20\n",
            "133/133 [==============================] - ETA: 0s - loss: 0.4859 - categorical_accuracy: 0.7994\n",
            "Epoch 4: val_loss did not improve from 0.35048\n",
            "133/133 [==============================] - 47s 353ms/step - loss: 0.4859 - categorical_accuracy: 0.7994 - val_loss: 0.4690 - val_categorical_accuracy: 0.7500 - lr: 0.0010\n",
            "Epoch 5/20\n",
            "133/133 [==============================] - ETA: 0s - loss: 0.5752 - categorical_accuracy: 0.7843\n",
            "Epoch 5: val_loss did not improve from 0.35048\n",
            "133/133 [==============================] - 51s 385ms/step - loss: 0.5752 - categorical_accuracy: 0.7843 - val_loss: 0.4237 - val_categorical_accuracy: 0.8400 - lr: 0.0010\n",
            "Epoch 6/20\n",
            "133/133 [==============================] - ETA: 0s - loss: 0.5056 - categorical_accuracy: 0.8084\n",
            "Epoch 6: val_loss did not improve from 0.35048\n",
            "\n",
            "Epoch 6: ReduceLROnPlateau reducing learning rate to 0.00020000000949949026.\n",
            "133/133 [==============================] - 49s 367ms/step - loss: 0.5056 - categorical_accuracy: 0.8084 - val_loss: 0.4655 - val_categorical_accuracy: 0.8200 - lr: 0.0010\n",
            "Epoch 7/20\n",
            "133/133 [==============================] - ETA: 0s - loss: 0.3794 - categorical_accuracy: 0.8582\n",
            "Epoch 7: val_loss improved from 0.35048 to 0.26767, saving model to /content/gdrive/MyDrive/Colab Notebooks/Project_data_2024-05-0618_45_35.453847/model-00007-0.37935-0.85822-0.26767-0.90000.keras\n",
            "133/133 [==============================] - 51s 384ms/step - loss: 0.3794 - categorical_accuracy: 0.8582 - val_loss: 0.2677 - val_categorical_accuracy: 0.9000 - lr: 2.0000e-04\n",
            "Epoch 8/20\n",
            "133/133 [==============================] - ETA: 0s - loss: 0.2649 - categorical_accuracy: 0.9155\n",
            "Epoch 8: val_loss improved from 0.26767 to 0.24384, saving model to /content/gdrive/MyDrive/Colab Notebooks/Project_data_2024-05-0618_45_35.453847/model-00008-0.26485-0.91554-0.24384-0.91000.keras\n",
            "133/133 [==============================] - 51s 387ms/step - loss: 0.2649 - categorical_accuracy: 0.9155 - val_loss: 0.2438 - val_categorical_accuracy: 0.9100 - lr: 2.0000e-04\n",
            "Epoch 9/20\n",
            "133/133 [==============================] - ETA: 0s - loss: 0.2251 - categorical_accuracy: 0.9201\n",
            "Epoch 9: val_loss improved from 0.24384 to 0.21156, saving model to /content/gdrive/MyDrive/Colab Notebooks/Project_data_2024-05-0618_45_35.453847/model-00009-0.22514-0.92006-0.21156-0.91000.keras\n",
            "133/133 [==============================] - 48s 365ms/step - loss: 0.2251 - categorical_accuracy: 0.9201 - val_loss: 0.2116 - val_categorical_accuracy: 0.9100 - lr: 2.0000e-04\n",
            "Epoch 10/20\n",
            "133/133 [==============================] - ETA: 0s - loss: 0.1945 - categorical_accuracy: 0.9321\n",
            "Epoch 10: val_loss improved from 0.21156 to 0.07825, saving model to /content/gdrive/MyDrive/Colab Notebooks/Project_data_2024-05-0618_45_35.453847/model-00010-0.19453-0.93213-0.07825-0.98000.keras\n",
            "133/133 [==============================] - 48s 366ms/step - loss: 0.1945 - categorical_accuracy: 0.9321 - val_loss: 0.0782 - val_categorical_accuracy: 0.9800 - lr: 2.0000e-04\n",
            "Epoch 11/20\n",
            "133/133 [==============================] - ETA: 0s - loss: 0.1542 - categorical_accuracy: 0.9517\n",
            "Epoch 11: val_loss did not improve from 0.07825\n",
            "133/133 [==============================] - 47s 356ms/step - loss: 0.1542 - categorical_accuracy: 0.9517 - val_loss: 0.2043 - val_categorical_accuracy: 0.9100 - lr: 2.0000e-04\n",
            "Epoch 12/20\n",
            "133/133 [==============================] - ETA: 0s - loss: 0.1313 - categorical_accuracy: 0.9593\n",
            "Epoch 12: val_loss did not improve from 0.07825\n",
            "133/133 [==============================] - 47s 356ms/step - loss: 0.1313 - categorical_accuracy: 0.9593 - val_loss: 0.1918 - val_categorical_accuracy: 0.9400 - lr: 2.0000e-04\n",
            "Epoch 13/20\n",
            "133/133 [==============================] - ETA: 0s - loss: 0.1065 - categorical_accuracy: 0.9713\n",
            "Epoch 13: val_loss did not improve from 0.07825\n",
            "\n",
            "Epoch 13: ReduceLROnPlateau reducing learning rate to 4.0000001899898055e-05.\n",
            "133/133 [==============================] - 48s 364ms/step - loss: 0.1065 - categorical_accuracy: 0.9713 - val_loss: 0.1498 - val_categorical_accuracy: 0.9500 - lr: 2.0000e-04\n",
            "Epoch 14/20\n",
            "133/133 [==============================] - ETA: 0s - loss: 0.0813 - categorical_accuracy: 0.9759\n",
            "Epoch 14: val_loss did not improve from 0.07825\n",
            "133/133 [==============================] - 50s 380ms/step - loss: 0.0813 - categorical_accuracy: 0.9759 - val_loss: 0.1514 - val_categorical_accuracy: 0.9300 - lr: 4.0000e-05\n",
            "Epoch 15/20\n",
            "133/133 [==============================] - ETA: 0s - loss: 0.0883 - categorical_accuracy: 0.9744\n",
            "Epoch 15: val_loss did not improve from 0.07825\n",
            "133/133 [==============================] - 50s 378ms/step - loss: 0.0883 - categorical_accuracy: 0.9744 - val_loss: 0.0790 - val_categorical_accuracy: 0.9600 - lr: 4.0000e-05\n",
            "Epoch 16/20\n",
            "133/133 [==============================] - ETA: 0s - loss: 0.1164 - categorical_accuracy: 0.9638\n",
            "Epoch 16: val_loss did not improve from 0.07825\n",
            "\n",
            "Epoch 16: ReduceLROnPlateau reducing learning rate to 8.000000525498762e-06.\n",
            "133/133 [==============================] - 47s 354ms/step - loss: 0.1164 - categorical_accuracy: 0.9638 - val_loss: 0.1601 - val_categorical_accuracy: 0.9400 - lr: 4.0000e-05\n",
            "Epoch 17/20\n",
            "133/133 [==============================] - ETA: 0s - loss: 0.0793 - categorical_accuracy: 0.9849\n",
            "Epoch 17: val_loss did not improve from 0.07825\n",
            "133/133 [==============================] - 51s 388ms/step - loss: 0.0793 - categorical_accuracy: 0.9849 - val_loss: 0.1000 - val_categorical_accuracy: 0.9600 - lr: 8.0000e-06\n",
            "Epoch 18/20\n",
            "133/133 [==============================] - ETA: 0s - loss: 0.0581 - categorical_accuracy: 0.9849\n",
            "Epoch 18: val_loss did not improve from 0.07825\n",
            "133/133 [==============================] - 48s 361ms/step - loss: 0.0581 - categorical_accuracy: 0.9849 - val_loss: 0.0804 - val_categorical_accuracy: 0.9800 - lr: 8.0000e-06\n",
            "Epoch 19/20\n",
            "133/133 [==============================] - ETA: 0s - loss: 0.0595 - categorical_accuracy: 0.9894\n",
            "Epoch 19: val_loss did not improve from 0.07825\n",
            "\n",
            "Epoch 19: ReduceLROnPlateau reducing learning rate to 1.6000001778593287e-06.\n",
            "133/133 [==============================] - 47s 357ms/step - loss: 0.0595 - categorical_accuracy: 0.9894 - val_loss: 0.1394 - val_categorical_accuracy: 0.9500 - lr: 8.0000e-06\n",
            "Epoch 20/20\n",
            "133/133 [==============================] - ETA: 0s - loss: 0.0556 - categorical_accuracy: 0.9849\n",
            "Epoch 20: val_loss did not improve from 0.07825\n",
            "133/133 [==============================] - 48s 362ms/step - loss: 0.0556 - categorical_accuracy: 0.9849 - val_loss: 0.0998 - val_categorical_accuracy: 0.9600 - lr: 1.6000e-06\n"
          ]
        }
      ],
      "source": [
        "history_transfer = model_train_fit(model_mobilenet,train_path,train_doc,val_path, val_doc,batch_size,frame_count,img_y,img_z,num_train_sequences,num_val_sequences,num_epochs)"
      ]
    },
    {
      "cell_type": "markdown",
      "metadata": {
        "id": "7wrAw51m8d_F"
      },
      "source": [
        "Observition : We are getting good categorical and validation accuracy."
      ]
    },
    {
      "cell_type": "markdown",
      "metadata": {
        "id": "BFqHpryO8d_F"
      },
      "source": [
        "#### Conclusion:\n",
        "\n",
        "The Model built with Time distributed Conv2D and ConvLSTM2D gave better results compared to all the other Conv3D models and also the model has very least number of parameters compared to other models.\n",
        "As per the above experiment we have decided to go with CNN-RNN Transferred Learning (GRU) model because it gives the best accuracy as compared to any other model that have been trained.\n"
      ]
    }
  ],
  "metadata": {
    "accelerator": "GPU",
    "colab": {
      "gpuType": "T4",
      "provenance": []
    },
    "kernelspec": {
      "display_name": "Python 3",
      "name": "python3"
    },
    "language_info": {
      "codemirror_mode": {
        "name": "ipython",
        "version": 3
      },
      "file_extension": ".py",
      "mimetype": "text/x-python",
      "name": "python",
      "nbconvert_exporter": "python",
      "pygments_lexer": "ipython3",
      "version": "3.11.3"
    }
  },
  "nbformat": 4,
  "nbformat_minor": 0
}